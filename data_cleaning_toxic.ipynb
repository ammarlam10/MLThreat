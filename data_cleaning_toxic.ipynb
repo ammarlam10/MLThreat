{
 "cells": [
  {
   "cell_type": "code",
   "execution_count": 58,
   "metadata": {},
   "outputs": [],
   "source": [
    "import cPickle as pickle\n",
    "import pandas as pd, numpy as np\n",
    "from sklearn.linear_model import LogisticRegression\n",
    "from sklearn.feature_extraction.text import CountVectorizer, TfidfVectorizer"
   ]
  },
  {
   "cell_type": "code",
   "execution_count": 59,
   "metadata": {},
   "outputs": [],
   "source": [
    "train = pd.read_csv('./train.csv')\n",
    "train1 = pd.read_csv('./train_created.csv')\n",
    "twitter = pd.read_csv('./final/twitter_hate.csv')"
   ]
  },
  {
   "cell_type": "code",
   "execution_count": 60,
   "metadata": {},
   "outputs": [],
   "source": [
    "plain = train[(train['toxic'] == 0) & (train['severe_toxic'] == 0) & (train['obscene'] == 0) & (train['threat'] == 0) \n",
    "      & (train['insult'] == 0) & (train['identity_hate'] == 0)]"
   ]
  },
  {
   "cell_type": "code",
   "execution_count": null,
   "metadata": {},
   "outputs": [],
   "source": []
  },
  {
   "cell_type": "code",
   "execution_count": 61,
   "metadata": {},
   "outputs": [
    {
     "data": {
      "text/plain": [
       "id               143346\n",
       "comment_text     143346\n",
       "toxic            143346\n",
       "severe_toxic     143346\n",
       "obscene          143346\n",
       "threat           143346\n",
       "insult           143346\n",
       "identity_hate    143346\n",
       "dtype: int64"
      ]
     },
     "execution_count": 61,
     "metadata": {},
     "output_type": "execute_result"
    }
   ],
   "source": [
    "plain.count()"
   ]
  },
  {
   "cell_type": "code",
   "execution_count": 62,
   "metadata": {},
   "outputs": [],
   "source": [
    "plain = plain.sample(n=200)"
   ]
  },
  {
   "cell_type": "code",
   "execution_count": 63,
   "metadata": {},
   "outputs": [
    {
     "data": {
      "text/html": [
       "<div>\n",
       "<style scoped>\n",
       "    .dataframe tbody tr th:only-of-type {\n",
       "        vertical-align: middle;\n",
       "    }\n",
       "\n",
       "    .dataframe tbody tr th {\n",
       "        vertical-align: top;\n",
       "    }\n",
       "\n",
       "    .dataframe thead th {\n",
       "        text-align: right;\n",
       "    }\n",
       "</style>\n",
       "<table border=\"1\" class=\"dataframe\">\n",
       "  <thead>\n",
       "    <tr style=\"text-align: right;\">\n",
       "      <th></th>\n",
       "      <th>id</th>\n",
       "      <th>comment_text</th>\n",
       "      <th>toxic</th>\n",
       "      <th>severe_toxic</th>\n",
       "      <th>obscene</th>\n",
       "      <th>threat</th>\n",
       "      <th>insult</th>\n",
       "      <th>identity_hate</th>\n",
       "    </tr>\n",
       "  </thead>\n",
       "  <tbody>\n",
       "    <tr>\n",
       "      <th>86010</th>\n",
       "      <td>e61b27e9ee84e7f9</td>\n",
       "      <td>closing admin \\n\\nThe debate for Akane-chan Ov...</td>\n",
       "      <td>0</td>\n",
       "      <td>0</td>\n",
       "      <td>0</td>\n",
       "      <td>0</td>\n",
       "      <td>0</td>\n",
       "      <td>0</td>\n",
       "    </tr>\n",
       "    <tr>\n",
       "      <th>48741</th>\n",
       "      <td>8253491c804e8dd5</td>\n",
       "      <td>Throw off the shackles of Arab imperialism and...</td>\n",
       "      <td>0</td>\n",
       "      <td>0</td>\n",
       "      <td>0</td>\n",
       "      <td>0</td>\n",
       "      <td>0</td>\n",
       "      <td>0</td>\n",
       "    </tr>\n",
       "    <tr>\n",
       "      <th>27139</th>\n",
       "      <td>47cfe8ce9f60e192</td>\n",
       "      <td>File:Logo-quidco.png\\nI have tagged File:Logo-...</td>\n",
       "      <td>0</td>\n",
       "      <td>0</td>\n",
       "      <td>0</td>\n",
       "      <td>0</td>\n",
       "      <td>0</td>\n",
       "      <td>0</td>\n",
       "    </tr>\n",
       "    <tr>\n",
       "      <th>55017</th>\n",
       "      <td>9308473a206555a2</td>\n",
       "      <td>Edit to ISOC (Islamic Society) - your own arti...</td>\n",
       "      <td>0</td>\n",
       "      <td>0</td>\n",
       "      <td>0</td>\n",
       "      <td>0</td>\n",
       "      <td>0</td>\n",
       "      <td>0</td>\n",
       "    </tr>\n",
       "    <tr>\n",
       "      <th>13841</th>\n",
       "      <td>24891d81ee84cf39</td>\n",
       "      <td>Archive page 8: October 2008</td>\n",
       "      <td>0</td>\n",
       "      <td>0</td>\n",
       "      <td>0</td>\n",
       "      <td>0</td>\n",
       "      <td>0</td>\n",
       "      <td>0</td>\n",
       "    </tr>\n",
       "  </tbody>\n",
       "</table>\n",
       "</div>"
      ],
      "text/plain": [
       "                     id                                       comment_text  \\\n",
       "86010  e61b27e9ee84e7f9  closing admin \\n\\nThe debate for Akane-chan Ov...   \n",
       "48741  8253491c804e8dd5  Throw off the shackles of Arab imperialism and...   \n",
       "27139  47cfe8ce9f60e192  File:Logo-quidco.png\\nI have tagged File:Logo-...   \n",
       "55017  9308473a206555a2  Edit to ISOC (Islamic Society) - your own arti...   \n",
       "13841  24891d81ee84cf39                       Archive page 8: October 2008   \n",
       "\n",
       "       toxic  severe_toxic  obscene  threat  insult  identity_hate  \n",
       "86010      0             0        0       0       0              0  \n",
       "48741      0             0        0       0       0              0  \n",
       "27139      0             0        0       0       0              0  \n",
       "55017      0             0        0       0       0              0  \n",
       "13841      0             0        0       0       0              0  "
      ]
     },
     "execution_count": 63,
     "metadata": {},
     "output_type": "execute_result"
    }
   ],
   "source": [
    "plain.head()"
   ]
  },
  {
   "cell_type": "code",
   "execution_count": 64,
   "metadata": {},
   "outputs": [
    {
     "data": {
      "text/html": [
       "<div>\n",
       "<style scoped>\n",
       "    .dataframe tbody tr th:only-of-type {\n",
       "        vertical-align: middle;\n",
       "    }\n",
       "\n",
       "    .dataframe tbody tr th {\n",
       "        vertical-align: top;\n",
       "    }\n",
       "\n",
       "    .dataframe thead th {\n",
       "        text-align: right;\n",
       "    }\n",
       "</style>\n",
       "<table border=\"1\" class=\"dataframe\">\n",
       "  <thead>\n",
       "    <tr style=\"text-align: right;\">\n",
       "      <th></th>\n",
       "      <th>Unnamed: 0</th>\n",
       "      <th>count</th>\n",
       "      <th>hate_speech</th>\n",
       "      <th>offensive_language</th>\n",
       "      <th>neither</th>\n",
       "      <th>class</th>\n",
       "      <th>tweet</th>\n",
       "    </tr>\n",
       "  </thead>\n",
       "  <tbody>\n",
       "    <tr>\n",
       "      <th>0</th>\n",
       "      <td>0</td>\n",
       "      <td>3</td>\n",
       "      <td>0</td>\n",
       "      <td>0</td>\n",
       "      <td>3</td>\n",
       "      <td>2</td>\n",
       "      <td>!!! RT @mayasolovely: As a woman you shouldn't...</td>\n",
       "    </tr>\n",
       "    <tr>\n",
       "      <th>1</th>\n",
       "      <td>1</td>\n",
       "      <td>3</td>\n",
       "      <td>0</td>\n",
       "      <td>3</td>\n",
       "      <td>0</td>\n",
       "      <td>1</td>\n",
       "      <td>!!!!! RT @mleew17: boy dats cold...tyga dwn ba...</td>\n",
       "    </tr>\n",
       "    <tr>\n",
       "      <th>2</th>\n",
       "      <td>2</td>\n",
       "      <td>3</td>\n",
       "      <td>0</td>\n",
       "      <td>3</td>\n",
       "      <td>0</td>\n",
       "      <td>1</td>\n",
       "      <td>!!!!!!! RT @UrKindOfBrand Dawg!!!! RT @80sbaby...</td>\n",
       "    </tr>\n",
       "    <tr>\n",
       "      <th>3</th>\n",
       "      <td>3</td>\n",
       "      <td>3</td>\n",
       "      <td>0</td>\n",
       "      <td>2</td>\n",
       "      <td>1</td>\n",
       "      <td>1</td>\n",
       "      <td>!!!!!!!!! RT @C_G_Anderson: @viva_based she lo...</td>\n",
       "    </tr>\n",
       "    <tr>\n",
       "      <th>4</th>\n",
       "      <td>4</td>\n",
       "      <td>6</td>\n",
       "      <td>0</td>\n",
       "      <td>6</td>\n",
       "      <td>0</td>\n",
       "      <td>1</td>\n",
       "      <td>!!!!!!!!!!!!! RT @ShenikaRoberts: The shit you...</td>\n",
       "    </tr>\n",
       "  </tbody>\n",
       "</table>\n",
       "</div>"
      ],
      "text/plain": [
       "   Unnamed: 0  count  hate_speech  offensive_language  neither  class  \\\n",
       "0           0      3            0                   0        3      2   \n",
       "1           1      3            0                   3        0      1   \n",
       "2           2      3            0                   3        0      1   \n",
       "3           3      3            0                   2        1      1   \n",
       "4           4      6            0                   6        0      1   \n",
       "\n",
       "                                               tweet  \n",
       "0  !!! RT @mayasolovely: As a woman you shouldn't...  \n",
       "1  !!!!! RT @mleew17: boy dats cold...tyga dwn ba...  \n",
       "2  !!!!!!! RT @UrKindOfBrand Dawg!!!! RT @80sbaby...  \n",
       "3  !!!!!!!!! RT @C_G_Anderson: @viva_based she lo...  \n",
       "4  !!!!!!!!!!!!! RT @ShenikaRoberts: The shit you...  "
      ]
     },
     "execution_count": 64,
     "metadata": {},
     "output_type": "execute_result"
    }
   ],
   "source": [
    "twitter.head()"
   ]
  },
  {
   "cell_type": "code",
   "execution_count": 65,
   "metadata": {},
   "outputs": [
    {
     "name": "stderr",
     "output_type": "stream",
     "text": [
      "/home/ammar/.local/lib/python2.7/site-packages/ipykernel_launcher.py:2: UserWarning: Boolean Series key will be reindexed to match DataFrame index.\n",
      "  \n"
     ]
    },
    {
     "data": {
      "text/plain": [
       "Unnamed: 0       309\n",
       "id               309\n",
       "comment_text     309\n",
       "toxic            309\n",
       "severe_toxic     309\n",
       "obscene          309\n",
       "threat           309\n",
       "insult           309\n",
       "identity_hate    309\n",
       "dtype: int64"
      ]
     },
     "execution_count": 65,
     "metadata": {},
     "output_type": "execute_result"
    }
   ],
   "source": [
    " train1[(train1['toxic'] == 0) & (train1['severe_toxic'] == 0) & (train1['obscene'] == 0) & (train1['threat'] == 0) \n",
    "                     & (train1['insult'] == 0) & (train['identity_hate'] == 0)].count()"
   ]
  },
  {
   "cell_type": "code",
   "execution_count": null,
   "metadata": {},
   "outputs": [],
   "source": []
  },
  {
   "cell_type": "code",
   "execution_count": 66,
   "metadata": {},
   "outputs": [],
   "source": [
    "train_plain =  train[(train['toxic'] == 0) & (train['severe_toxic'] == 0) & (train['obscene'] == 0) & (train['threat'] == 0) \n",
    "                     & (train['insult'] == 0) & (train['identity_hate'] == 0)]"
   ]
  },
  {
   "cell_type": "code",
   "execution_count": null,
   "metadata": {},
   "outputs": [],
   "source": []
  },
  {
   "cell_type": "code",
   "execution_count": 67,
   "metadata": {},
   "outputs": [
    {
     "data": {
      "text/plain": [
       "id               143346\n",
       "comment_text     143346\n",
       "toxic            143346\n",
       "severe_toxic     143346\n",
       "obscene          143346\n",
       "threat           143346\n",
       "insult           143346\n",
       "identity_hate    143346\n",
       "dtype: int64"
      ]
     },
     "execution_count": 67,
     "metadata": {},
     "output_type": "execute_result"
    }
   ],
   "source": [
    "train_plain.count()"
   ]
  },
  {
   "cell_type": "code",
   "execution_count": 68,
   "metadata": {},
   "outputs": [],
   "source": [
    "murder = train[train['comment_text'].apply(lambda x: 'murder' in x) & ((train['toxic'] == 1) | (train['severe_toxic'] == 1) | (train['obscene'] == 1) | (train['threat'] == 1) \n",
    "                     | (train['insult'] == 1) | (train['identity_hate'] == 1))]\n",
    "shoot = train[train['comment_text'].apply(lambda x: 'shoot' in x) & ((train['toxic'] == 1) | (train['severe_toxic'] == 1) | (train['obscene'] == 1) | (train['threat'] == 1) \n",
    "                     | (train['insult'] == 1) | (train['identity_hate'] == 1))]\n",
    "kill = train[train['comment_text'].apply(lambda x: 'kill' in x) & ((train['toxic'] == 1) | (train['severe_toxic'] == 1) | (train['obscene'] == 1) | (train['threat'] == 1) \n",
    "                     | (train['insult'] == 1) | (train['identity_hate'] == 1))]\n",
    "bomb = train[train['comment_text'].apply(lambda x: 'bomb' in x) & ((train['toxic'] == 1) | (train['severe_toxic'] == 1) | (train['obscene'] == 1) | (train['threat'] == 1) \n",
    "                     | (train['insult'] == 1) | (train['identity_hate'] == 1))]"
   ]
  },
  {
   "cell_type": "code",
   "execution_count": 96,
   "metadata": {},
   "outputs": [],
   "source": [
    "blow = train[train['comment_text'].apply(lambda x: 'blow' in x) & ((train['toxic'] == 1) | (train['severe_toxic'] == 1) | (train['obscene'] == 1) | (train['threat'] == 1) \n",
    "                     | (train['insult'] == 1) | (train['identity_hate'] == 1))]"
   ]
  },
  {
   "cell_type": "code",
   "execution_count": 98,
   "metadata": {},
   "outputs": [],
   "source": [
    "knife = train[train['comment_text'].apply(lambda x: 'knife' in x) & ((train['toxic'] == 1) | (train['severe_toxic'] == 1) | (train['obscene'] == 1) | (train['threat'] == 1) \n",
    "                     | (train['insult'] == 1) | (train['identity_hate'] == 1))]"
   ]
  },
  {
   "cell_type": "code",
   "execution_count": 99,
   "metadata": {},
   "outputs": [
    {
     "data": {
      "text/plain": [
       "id               11\n",
       "comment_text     11\n",
       "toxic            11\n",
       "severe_toxic     11\n",
       "obscene          11\n",
       "threat           11\n",
       "insult           11\n",
       "identity_hate    11\n",
       "dtype: int64"
      ]
     },
     "execution_count": 99,
     "metadata": {},
     "output_type": "execute_result"
    }
   ],
   "source": [
    "knife.count()"
   ]
  },
  {
   "cell_type": "code",
   "execution_count": 97,
   "metadata": {},
   "outputs": [
    {
     "data": {
      "text/plain": [
       "id               84\n",
       "comment_text     84\n",
       "toxic            84\n",
       "severe_toxic     84\n",
       "obscene          84\n",
       "threat           84\n",
       "insult           84\n",
       "identity_hate    84\n",
       "dtype: int64"
      ]
     },
     "execution_count": 97,
     "metadata": {},
     "output_type": "execute_result"
    }
   ],
   "source": [
    "blow.count()"
   ]
  },
  {
   "cell_type": "code",
   "execution_count": 69,
   "metadata": {},
   "outputs": [],
   "source": [
    "burn = train[train['comment_text'].apply(lambda x: 'burn' in x) & ((train['toxic'] == 1) | (train['severe_toxic'] == 1) | (train['obscene'] == 1) | (train['threat'] == 1) \n",
    "                     | (train['insult'] == 1) | (train['identity_hate'] == 1))]"
   ]
  },
  {
   "cell_type": "code",
   "execution_count": 70,
   "metadata": {},
   "outputs": [],
   "source": [
    "rape = train[train['comment_text'].apply(lambda x: 'rape' in x) & ((train['toxic'] == 1) | (train['severe_toxic'] == 1) | (train['obscene'] == 1) | (train['threat'] == 1) \n",
    "                     | (train['insult'] == 1) | (train['identity_hate'] == 1))]"
   ]
  },
  {
   "cell_type": "code",
   "execution_count": 71,
   "metadata": {},
   "outputs": [
    {
     "data": {
      "text/plain": [
       "id               144\n",
       "comment_text     144\n",
       "toxic            144\n",
       "severe_toxic     144\n",
       "obscene          144\n",
       "threat           144\n",
       "insult           144\n",
       "identity_hate    144\n",
       "dtype: int64"
      ]
     },
     "execution_count": 71,
     "metadata": {},
     "output_type": "execute_result"
    }
   ],
   "source": [
    "rape.count()"
   ]
  },
  {
   "cell_type": "code",
   "execution_count": 72,
   "metadata": {},
   "outputs": [],
   "source": [
    "school = train[train['comment_text'].apply(lambda x: 'school' in x) & ((train['toxic'] == 1) | (train['severe_toxic'] == 1) | (train['obscene'] == 1) | (train['threat'] == 1) \n",
    "                     | (train['insult'] == 1) | (train['identity_hate'] == 1))]"
   ]
  },
  {
   "cell_type": "code",
   "execution_count": 73,
   "metadata": {},
   "outputs": [],
   "source": [
    "teacher = train[train['comment_text'].apply(lambda x: 'teacher' in x) & ((train['toxic'] == 1) | (train['severe_toxic'] == 1) | (train['obscene'] == 1) | (train['threat'] == 1) \n",
    "                     | (train['insult'] == 1) | (train['identity_hate'] == 1))]"
   ]
  },
  {
   "cell_type": "code",
   "execution_count": 74,
   "metadata": {},
   "outputs": [
    {
     "data": {
      "text/plain": [
       "id               31\n",
       "comment_text     31\n",
       "toxic            31\n",
       "severe_toxic     31\n",
       "obscene          31\n",
       "threat           31\n",
       "insult           31\n",
       "identity_hate    31\n",
       "dtype: int64"
      ]
     },
     "execution_count": 74,
     "metadata": {},
     "output_type": "execute_result"
    }
   ],
   "source": [
    "teacher.count()"
   ]
  },
  {
   "cell_type": "code",
   "execution_count": 75,
   "metadata": {},
   "outputs": [
    {
     "data": {
      "text/html": [
       "<div>\n",
       "<style scoped>\n",
       "    .dataframe tbody tr th:only-of-type {\n",
       "        vertical-align: middle;\n",
       "    }\n",
       "\n",
       "    .dataframe tbody tr th {\n",
       "        vertical-align: top;\n",
       "    }\n",
       "\n",
       "    .dataframe thead th {\n",
       "        text-align: right;\n",
       "    }\n",
       "</style>\n",
       "<table border=\"1\" class=\"dataframe\">\n",
       "  <thead>\n",
       "    <tr style=\"text-align: right;\">\n",
       "      <th></th>\n",
       "      <th>id</th>\n",
       "      <th>comment_text</th>\n",
       "      <th>toxic</th>\n",
       "      <th>severe_toxic</th>\n",
       "      <th>obscene</th>\n",
       "      <th>threat</th>\n",
       "      <th>insult</th>\n",
       "      <th>identity_hate</th>\n",
       "    </tr>\n",
       "  </thead>\n",
       "  <tbody>\n",
       "    <tr>\n",
       "      <th>590</th>\n",
       "      <td>018e6f1e1b18723a</td>\n",
       "      <td>\"\\n\\n Another crap article \\nParrots what prom...</td>\n",
       "      <td>1</td>\n",
       "      <td>0</td>\n",
       "      <td>0</td>\n",
       "      <td>0</td>\n",
       "      <td>0</td>\n",
       "      <td>0</td>\n",
       "    </tr>\n",
       "    <tr>\n",
       "      <th>746</th>\n",
       "      <td>020316a0de9e0406</td>\n",
       "      <td>\"You know, I was thinking...\\n\\nNobody really ...</td>\n",
       "      <td>1</td>\n",
       "      <td>1</td>\n",
       "      <td>1</td>\n",
       "      <td>0</td>\n",
       "      <td>0</td>\n",
       "      <td>0</td>\n",
       "    </tr>\n",
       "    <tr>\n",
       "      <th>884</th>\n",
       "      <td>026a530134212936</td>\n",
       "      <td>\"\\n\\n I TAKE OFFENSE! \\n\\nI take great offense...</td>\n",
       "      <td>1</td>\n",
       "      <td>0</td>\n",
       "      <td>0</td>\n",
       "      <td>0</td>\n",
       "      <td>0</td>\n",
       "      <td>0</td>\n",
       "    </tr>\n",
       "    <tr>\n",
       "      <th>1361</th>\n",
       "      <td>03b209cb784d7a36</td>\n",
       "      <td>\"\\n\\nNo!  This is a GROUP EFFORT!  Wikipedia i...</td>\n",
       "      <td>1</td>\n",
       "      <td>0</td>\n",
       "      <td>1</td>\n",
       "      <td>0</td>\n",
       "      <td>0</td>\n",
       "      <td>0</td>\n",
       "    </tr>\n",
       "    <tr>\n",
       "      <th>2678</th>\n",
       "      <td>0735c7334d85c6aa</td>\n",
       "      <td>Issues with Knox \\n\\nKnox run things like Gala...</td>\n",
       "      <td>0</td>\n",
       "      <td>0</td>\n",
       "      <td>1</td>\n",
       "      <td>0</td>\n",
       "      <td>1</td>\n",
       "      <td>0</td>\n",
       "    </tr>\n",
       "  </tbody>\n",
       "</table>\n",
       "</div>"
      ],
      "text/plain": [
       "                    id                                       comment_text  \\\n",
       "590   018e6f1e1b18723a  \"\\n\\n Another crap article \\nParrots what prom...   \n",
       "746   020316a0de9e0406  \"You know, I was thinking...\\n\\nNobody really ...   \n",
       "884   026a530134212936  \"\\n\\n I TAKE OFFENSE! \\n\\nI take great offense...   \n",
       "1361  03b209cb784d7a36  \"\\n\\nNo!  This is a GROUP EFFORT!  Wikipedia i...   \n",
       "2678  0735c7334d85c6aa  Issues with Knox \\n\\nKnox run things like Gala...   \n",
       "\n",
       "      toxic  severe_toxic  obscene  threat  insult  identity_hate  \n",
       "590       1             0        0       0       0              0  \n",
       "746       1             1        1       0       0              0  \n",
       "884       1             0        0       0       0              0  \n",
       "1361      1             0        1       0       0              0  \n",
       "2678      0             0        1       0       1              0  "
      ]
     },
     "execution_count": 75,
     "metadata": {},
     "output_type": "execute_result"
    }
   ],
   "source": [
    "school.head()"
   ]
  },
  {
   "cell_type": "code",
   "execution_count": 76,
   "metadata": {},
   "outputs": [
    {
     "data": {
      "text/plain": [
       "Unnamed: 0       311\n",
       "id               311\n",
       "comment_text     311\n",
       "toxic            311\n",
       "severe_toxic     311\n",
       "obscene          311\n",
       "threat           311\n",
       "insult           311\n",
       "identity_hate    311\n",
       "dtype: int64"
      ]
     },
     "execution_count": 76,
     "metadata": {},
     "output_type": "execute_result"
    }
   ],
   "source": [
    "train1[(train1['toxic'] == 0) & (train1['severe_toxic'] == 0) & (train1['obscene'] == 0) & (train1['threat'] == 0) \n",
    "                     & (train1['insult'] == 0) & (train1['identity_hate'] == 0)].count()"
   ]
  },
  {
   "cell_type": "code",
   "execution_count": 77,
   "metadata": {},
   "outputs": [
    {
     "data": {
      "text/plain": [
       "Unnamed: 0       408\n",
       "id               408\n",
       "comment_text     408\n",
       "toxic            408\n",
       "severe_toxic     408\n",
       "obscene          408\n",
       "threat           408\n",
       "insult           408\n",
       "identity_hate    408\n",
       "dtype: int64"
      ]
     },
     "execution_count": 77,
     "metadata": {},
     "output_type": "execute_result"
    }
   ],
   "source": [
    "train1.count()"
   ]
  },
  {
   "cell_type": "code",
   "execution_count": 78,
   "metadata": {},
   "outputs": [
    {
     "name": "stdout",
     "output_type": "stream",
     "text": [
      "id               66\n",
      "comment_text     66\n",
      "toxic            66\n",
      "severe_toxic     66\n",
      "obscene          66\n",
      "threat           66\n",
      "insult           66\n",
      "identity_hate    66\n",
      "dtype: int64\n",
      "id               55\n",
      "comment_text     55\n",
      "toxic            55\n",
      "severe_toxic     55\n",
      "obscene          55\n",
      "threat           55\n",
      "insult           55\n",
      "identity_hate    55\n",
      "dtype: int64\n",
      "id               359\n",
      "comment_text     359\n",
      "toxic            359\n",
      "severe_toxic     359\n",
      "obscene          359\n",
      "threat           359\n",
      "insult           359\n",
      "identity_hate    359\n",
      "dtype: int64\n",
      "id               48\n",
      "comment_text     48\n",
      "toxic            48\n",
      "severe_toxic     48\n",
      "obscene          48\n",
      "threat           48\n",
      "insult           48\n",
      "identity_hate    48\n",
      "dtype: int64\n"
     ]
    }
   ],
   "source": [
    "print murder.count()\n",
    "print shoot.count()\n",
    "print kill.count()\n",
    "print bomb.count()"
   ]
  },
  {
   "cell_type": "code",
   "execution_count": 79,
   "metadata": {},
   "outputs": [],
   "source": [
    "school = school.sample(n=50)"
   ]
  },
  {
   "cell_type": "code",
   "execution_count": 80,
   "metadata": {},
   "outputs": [],
   "source": [
    "rape = rape.sample(n=60)"
   ]
  },
  {
   "cell_type": "code",
   "execution_count": 81,
   "metadata": {},
   "outputs": [],
   "source": [
    "burn = burn.sample(n=50)"
   ]
  },
  {
   "cell_type": "code",
   "execution_count": 82,
   "metadata": {},
   "outputs": [
    {
     "data": {
      "text/plain": [
       "id               66\n",
       "comment_text     66\n",
       "toxic            66\n",
       "severe_toxic     66\n",
       "obscene          66\n",
       "threat           66\n",
       "insult           66\n",
       "identity_hate    66\n",
       "dtype: int64"
      ]
     },
     "execution_count": 82,
     "metadata": {},
     "output_type": "execute_result"
    }
   ],
   "source": [
    "bomb = bomb.sample(n=48)\n",
    "murder.count()"
   ]
  },
  {
   "cell_type": "code",
   "execution_count": 83,
   "metadata": {},
   "outputs": [
    {
     "data": {
      "text/plain": [
       "id               50\n",
       "comment_text     50\n",
       "toxic            50\n",
       "severe_toxic     50\n",
       "obscene          50\n",
       "threat           50\n",
       "insult           50\n",
       "identity_hate    50\n",
       "dtype: int64"
      ]
     },
     "execution_count": 83,
     "metadata": {},
     "output_type": "execute_result"
    }
   ],
   "source": [
    "shoot_50 = shoot.sample(n=50)\n",
    "shoot_50.count()"
   ]
  },
  {
   "cell_type": "code",
   "execution_count": 84,
   "metadata": {},
   "outputs": [
    {
     "data": {
      "text/plain": [
       "id               50\n",
       "comment_text     50\n",
       "toxic            50\n",
       "severe_toxic     50\n",
       "obscene          50\n",
       "threat           50\n",
       "insult           50\n",
       "identity_hate    50\n",
       "dtype: int64"
      ]
     },
     "execution_count": 84,
     "metadata": {},
     "output_type": "execute_result"
    }
   ],
   "source": [
    "murder_50 = murder.sample(n=50)\n",
    "murder_50.count()"
   ]
  },
  {
   "cell_type": "code",
   "execution_count": 85,
   "metadata": {},
   "outputs": [
    {
     "data": {
      "text/plain": [
       "id               150\n",
       "comment_text     150\n",
       "toxic            150\n",
       "severe_toxic     150\n",
       "obscene          150\n",
       "threat           150\n",
       "insult           150\n",
       "identity_hate    150\n",
       "dtype: int64"
      ]
     },
     "execution_count": 85,
     "metadata": {},
     "output_type": "execute_result"
    }
   ],
   "source": [
    "kill_sample = kill.sample(n=150)\n",
    "kill_sample.count()"
   ]
  },
  {
   "cell_type": "code",
   "execution_count": 86,
   "metadata": {},
   "outputs": [
    {
     "data": {
      "text/html": [
       "<div>\n",
       "<style scoped>\n",
       "    .dataframe tbody tr th:only-of-type {\n",
       "        vertical-align: middle;\n",
       "    }\n",
       "\n",
       "    .dataframe tbody tr th {\n",
       "        vertical-align: top;\n",
       "    }\n",
       "\n",
       "    .dataframe thead th {\n",
       "        text-align: right;\n",
       "    }\n",
       "</style>\n",
       "<table border=\"1\" class=\"dataframe\">\n",
       "  <thead>\n",
       "    <tr style=\"text-align: right;\">\n",
       "      <th></th>\n",
       "      <th>id</th>\n",
       "      <th>comment_text</th>\n",
       "      <th>toxic</th>\n",
       "      <th>severe_toxic</th>\n",
       "      <th>obscene</th>\n",
       "      <th>threat</th>\n",
       "      <th>insult</th>\n",
       "      <th>identity_hate</th>\n",
       "    </tr>\n",
       "  </thead>\n",
       "  <tbody>\n",
       "    <tr>\n",
       "      <th>87050</th>\n",
       "      <td>e8d9aa36aa2bd503</td>\n",
       "      <td>In between the rapes, torture and murder I do ...</td>\n",
       "      <td>1</td>\n",
       "      <td>0</td>\n",
       "      <td>1</td>\n",
       "      <td>0</td>\n",
       "      <td>0</td>\n",
       "      <td>0</td>\n",
       "    </tr>\n",
       "    <tr>\n",
       "      <th>73693</th>\n",
       "      <td>c533fd97d7dd92e3</td>\n",
       "      <td>Mass Murder \\nTAB \\nChe Guevara was a mass mur...</td>\n",
       "      <td>1</td>\n",
       "      <td>0</td>\n",
       "      <td>0</td>\n",
       "      <td>0</td>\n",
       "      <td>1</td>\n",
       "      <td>0</td>\n",
       "    </tr>\n",
       "    <tr>\n",
       "      <th>106617</th>\n",
       "      <td>3a4c7758fad18de3</td>\n",
       "      <td>, I hope your retarded kids get anal raped and...</td>\n",
       "      <td>1</td>\n",
       "      <td>1</td>\n",
       "      <td>1</td>\n",
       "      <td>1</td>\n",
       "      <td>1</td>\n",
       "      <td>1</td>\n",
       "    </tr>\n",
       "    <tr>\n",
       "      <th>34818</th>\n",
       "      <td>5d010d469500fe65</td>\n",
       "      <td>You. \\n\\nYou're such a sad person, the fact yo...</td>\n",
       "      <td>1</td>\n",
       "      <td>0</td>\n",
       "      <td>1</td>\n",
       "      <td>1</td>\n",
       "      <td>1</td>\n",
       "      <td>0</td>\n",
       "    </tr>\n",
       "    <tr>\n",
       "      <th>5654</th>\n",
       "      <td>0f1f932c3332621c</td>\n",
       "      <td>stop murder \\n\\nYou are very unfriendly and fa...</td>\n",
       "      <td>1</td>\n",
       "      <td>0</td>\n",
       "      <td>0</td>\n",
       "      <td>0</td>\n",
       "      <td>1</td>\n",
       "      <td>0</td>\n",
       "    </tr>\n",
       "  </tbody>\n",
       "</table>\n",
       "</div>"
      ],
      "text/plain": [
       "                      id                                       comment_text  \\\n",
       "87050   e8d9aa36aa2bd503  In between the rapes, torture and murder I do ...   \n",
       "73693   c533fd97d7dd92e3  Mass Murder \\nTAB \\nChe Guevara was a mass mur...   \n",
       "106617  3a4c7758fad18de3  , I hope your retarded kids get anal raped and...   \n",
       "34818   5d010d469500fe65  You. \\n\\nYou're such a sad person, the fact yo...   \n",
       "5654    0f1f932c3332621c  stop murder \\n\\nYou are very unfriendly and fa...   \n",
       "\n",
       "        toxic  severe_toxic  obscene  threat  insult  identity_hate  \n",
       "87050       1             0        1       0       0              0  \n",
       "73693       1             0        0       0       1              0  \n",
       "106617      1             1        1       1       1              1  \n",
       "34818       1             0        1       1       1              0  \n",
       "5654        1             0        0       0       1              0  "
      ]
     },
     "execution_count": 86,
     "metadata": {},
     "output_type": "execute_result"
    }
   ],
   "source": [
    "murder_50.head()"
   ]
  },
  {
   "cell_type": "code",
   "execution_count": 87,
   "metadata": {},
   "outputs": [],
   "source": [
    "toxic_plain = pd.concat([plain,train1,bomb,kill_sample,shoot,murder,rape,school,teacher, blow, knife])"
   ]
  },
  {
   "cell_type": "code",
   "execution_count": 88,
   "metadata": {},
   "outputs": [],
   "source": [
    "del toxic_plain['Unnamed: 0']"
   ]
  },
  {
   "cell_type": "code",
   "execution_count": 89,
   "metadata": {},
   "outputs": [
    {
     "data": {
      "text/plain": [
       "comment_text     1068\n",
       "id               1068\n",
       "identity_hate    1068\n",
       "insult           1068\n",
       "obscene          1068\n",
       "severe_toxic     1068\n",
       "threat           1068\n",
       "toxic            1068\n",
       "dtype: int64"
      ]
     },
     "execution_count": 89,
     "metadata": {},
     "output_type": "execute_result"
    }
   ],
   "source": [
    "toxic_plain.count()"
   ]
  },
  {
   "cell_type": "code",
   "execution_count": 90,
   "metadata": {},
   "outputs": [
    {
     "data": {
      "text/plain": [
       "154763    \"\\nWith all due respect to the millions of Sov...\n",
       "173       \"\\n\\n#2 Richard 20:53 20Feb\\nYeah, so the prob...\n",
       "124593    I didn't initiate the attacks, just responded ...\n",
       "67410     I am going to kill you. I am going to murder you.\n",
       "157553    And note if you have your doubts. 12:54 AM ove...\n",
       "77172     Neda \\n\\nIts not enough for you to propagate t...\n",
       "67323     He's not gonna do that and not without good re...\n",
       "655       Wikipedia administrators are defending a mass-...\n",
       "877                          Fuck off you murdering scum!!!\n",
       "2533      \"\\n\\nI like the way you forget about all the t...\n",
       "4049      \"\\n\\n Barbarians \\n\\nThe Chinese as a country ...\n",
       "5654      stop murder \\n\\nYou are very unfriendly and fa...\n",
       "8979      I am going to kill you. I am going to murder y...\n",
       "12256     What are your motivations for Vandalizing arti...\n",
       "13964     I am going to murder ZimZalaBim ST47 for being...\n",
       "21733     .\\n\\nMuhammad was a dirty warmonger, murderer,...\n",
       "22598     \"\\n\\nYour accusations are false and malicious....\n",
       "23609     Last warning\\n\\nNow I will give you a warning ...\n",
       "24371     \"\\n\\nThis article is ludicrous, it paints anti...\n",
       "34818     You. \\n\\nYou're such a sad person, the fact yo...\n",
       "35988     Hey Defiance- this lady is CRAZY- she only edi...\n",
       "36713     You fucking piece of shit \\n\\nI'm going to hun...\n",
       "37188     become baby killers and mass murderers of toda...\n",
       "37229     February 2009 (UTC)\\nLet's not forget rapist, ...\n",
       "37626     Who cares? The janjaweed are just a bunch of m...\n",
       "49087     albert einstine was a foorball player for the ...\n",
       "55365     I can't believe you fucking wikipedos.  I'm go...\n",
       "55709     Cause of Death \\n\\nFuck exicution, put down Mu...\n",
       "56336                           ritual murder ritual murder\n",
       "61157     Can you think of a compelling reason... \\n\\nas...\n",
       "66580     Mass Murder \\nChe Guevara was a mass murderer....\n",
       "67323     He's not gonna do that and not without good re...\n",
       "67410     I am going to kill you. I am going to murder you.\n",
       "70020     \"Cut the crap already. Unless you're a pedophi...\n",
       "72960     \"\\nNo, sir, this comment is disgusting.  You o...\n",
       "73693     Mass Murder \\nTAB \\nChe Guevara was a mass mur...\n",
       "76499     \"\\n\\nBig Pro-Choice dyke\\n\\nHey bitch, if you'...\n",
       "77172     Neda \\n\\nIts not enough for you to propagate t...\n",
       "77555     You are absurd. You are defending a page of na...\n",
       "78285     I will murder your pets and slash your tires. ...\n",
       "81891     \"\\nYou are actually trying to goad me into an ...\n",
       "82785     Sorry Tajik, \\nbut an answer was in need. \\n\\n...\n",
       "83356     Okay, so anal sex is as widely unaccepted and ...\n",
       "85608     Anushirvan, Khampalak is just hurted that he i...\n",
       "85726                          Crapman is a murdering cunt!\n",
       "87050     In between the rapes, torture and murder I do ...\n",
       "95823     Milton cooper was a criminal \\n\\nWhy you defen...\n",
       "98774     \"\\n\\n stop stupid acusations \\nI find it unacc...\n",
       "Name: comment_text, dtype: object"
      ]
     },
     "execution_count": 90,
     "metadata": {},
     "output_type": "execute_result"
    }
   ],
   "source": [
    "toxic_plain[toxic_plain[\"comment_text\"].apply(lambda a:\"murder\" in a)]['comment_text'\n",
    "].iloc[0:48]"
   ]
  },
  {
   "cell_type": "code",
   "execution_count": null,
   "metadata": {},
   "outputs": [],
   "source": []
  },
  {
   "cell_type": "code",
   "execution_count": 91,
   "metadata": {},
   "outputs": [],
   "source": [
    "toxic_plain=toxic_plain.sample(frac =1).reset_index(drop = True)"
   ]
  },
  {
   "cell_type": "code",
   "execution_count": 92,
   "metadata": {},
   "outputs": [
    {
     "data": {
      "text/plain": [
       "comment_text     1068\n",
       "id               1068\n",
       "identity_hate    1068\n",
       "insult           1068\n",
       "obscene          1068\n",
       "severe_toxic     1068\n",
       "threat           1068\n",
       "toxic            1068\n",
       "dtype: int64"
      ]
     },
     "execution_count": 92,
     "metadata": {},
     "output_type": "execute_result"
    }
   ],
   "source": [
    "toxic_plain.count()"
   ]
  },
  {
   "cell_type": "code",
   "execution_count": 93,
   "metadata": {},
   "outputs": [],
   "source": [
    "# toxic_plain=toxic_plain[(toxic_plain['toxic'] == 0) & (toxic_plain['severe_toxic'] == 0) & (toxic_plain['obscene'] == 0) & (toxic_plain['threat'] == 0) \n",
    "#                      & (toxic_plain['insult'] == 0) & (toxic_plain['identity_hate'] == 0)].sample(n=150)"
   ]
  },
  {
   "cell_type": "code",
   "execution_count": 94,
   "metadata": {},
   "outputs": [
    {
     "data": {
      "text/plain": [
       "comment_text     1068\n",
       "id               1068\n",
       "identity_hate    1068\n",
       "insult           1068\n",
       "obscene          1068\n",
       "severe_toxic     1068\n",
       "threat           1068\n",
       "toxic            1068\n",
       "dtype: int64"
      ]
     },
     "execution_count": 94,
     "metadata": {},
     "output_type": "execute_result"
    }
   ],
   "source": [
    "toxic_plain.count()"
   ]
  },
  {
   "cell_type": "code",
   "execution_count": 95,
   "metadata": {},
   "outputs": [],
   "source": [
    "toxic_plain.to_csv('/home/ammar/study/8th semester/FYP/toxic comments/final/train_800.csv')"
   ]
  },
  {
   "cell_type": "code",
   "execution_count": 221,
   "metadata": {},
   "outputs": [
    {
     "name": "stderr",
     "output_type": "stream",
     "text": [
      "/home/ammar/.local/lib/python2.7/site-packages/ipykernel_launcher.py:2: UserWarning: Boolean Series key will be reindexed to match DataFrame index.\n",
      "  \n"
     ]
    }
   ],
   "source": [
    "toxic_plain =  toxic_plain[(train['toxic'] == 0) & (toxic_plain['severe_toxic'] == 0) & (toxic_plain['obscene'] == 0) & (toxic_plain['threat'] == 0) \n",
    "                     & (toxic_plain['insult'] == 0) & (toxic_plain['identity_hate'] == 0)]"
   ]
  },
  {
   "cell_type": "code",
   "execution_count": 223,
   "metadata": {},
   "outputs": [
    {
     "data": {
      "text/plain": [
       "comment_text     417\n",
       "id               417\n",
       "identity_hate    417\n",
       "insult           417\n",
       "obscene          417\n",
       "severe_toxic     417\n",
       "threat           417\n",
       "toxic            417\n",
       "dtype: int64"
      ]
     },
     "execution_count": 223,
     "metadata": {},
     "output_type": "execute_result"
    }
   ],
   "source": [
    "toxic_plain.count()"
   ]
  },
  {
   "cell_type": "code",
   "execution_count": null,
   "metadata": {},
   "outputs": [],
   "source": []
  }
 ],
 "metadata": {
  "kernelspec": {
   "display_name": "Python 2",
   "language": "python",
   "name": "python2"
  },
  "language_info": {
   "codemirror_mode": {
    "name": "ipython",
    "version": 2
   },
   "file_extension": ".py",
   "mimetype": "text/x-python",
   "name": "python",
   "nbconvert_exporter": "python",
   "pygments_lexer": "ipython2",
   "version": "2.7.12"
  }
 },
 "nbformat": 4,
 "nbformat_minor": 2
}
