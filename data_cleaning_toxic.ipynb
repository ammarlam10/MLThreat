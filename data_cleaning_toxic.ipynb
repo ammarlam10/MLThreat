{
 "cells": [
  {
   "cell_type": "code",
   "execution_count": 224,
   "metadata": {},
   "outputs": [],
   "source": [
    "import cPickle as pickle\n",
    "import pandas as pd, numpy as np\n",
    "from sklearn.linear_model import LogisticRegression\n",
    "from sklearn.feature_extraction.text import CountVectorizer, TfidfVectorizer"
   ]
  },
  {
   "cell_type": "code",
   "execution_count": 225,
   "metadata": {},
   "outputs": [],
   "source": [
    "train = pd.read_csv('./train.csv')\n",
    "train1 = pd.read_csv('./train_created.csv')\n",
    "twitter = pd.read_csv('./final/twitter_hate.csv')"
   ]
  },
  {
   "cell_type": "code",
   "execution_count": 226,
   "metadata": {},
   "outputs": [
    {
     "data": {
      "text/html": [
       "<div>\n",
       "<style scoped>\n",
       "    .dataframe tbody tr th:only-of-type {\n",
       "        vertical-align: middle;\n",
       "    }\n",
       "\n",
       "    .dataframe tbody tr th {\n",
       "        vertical-align: top;\n",
       "    }\n",
       "\n",
       "    .dataframe thead th {\n",
       "        text-align: right;\n",
       "    }\n",
       "</style>\n",
       "<table border=\"1\" class=\"dataframe\">\n",
       "  <thead>\n",
       "    <tr style=\"text-align: right;\">\n",
       "      <th></th>\n",
       "      <th>Unnamed: 0</th>\n",
       "      <th>count</th>\n",
       "      <th>hate_speech</th>\n",
       "      <th>offensive_language</th>\n",
       "      <th>neither</th>\n",
       "      <th>class</th>\n",
       "      <th>tweet</th>\n",
       "    </tr>\n",
       "  </thead>\n",
       "  <tbody>\n",
       "    <tr>\n",
       "      <th>0</th>\n",
       "      <td>0</td>\n",
       "      <td>3</td>\n",
       "      <td>0</td>\n",
       "      <td>0</td>\n",
       "      <td>3</td>\n",
       "      <td>2</td>\n",
       "      <td>!!! RT @mayasolovely: As a woman you shouldn't...</td>\n",
       "    </tr>\n",
       "    <tr>\n",
       "      <th>1</th>\n",
       "      <td>1</td>\n",
       "      <td>3</td>\n",
       "      <td>0</td>\n",
       "      <td>3</td>\n",
       "      <td>0</td>\n",
       "      <td>1</td>\n",
       "      <td>!!!!! RT @mleew17: boy dats cold...tyga dwn ba...</td>\n",
       "    </tr>\n",
       "    <tr>\n",
       "      <th>2</th>\n",
       "      <td>2</td>\n",
       "      <td>3</td>\n",
       "      <td>0</td>\n",
       "      <td>3</td>\n",
       "      <td>0</td>\n",
       "      <td>1</td>\n",
       "      <td>!!!!!!! RT @UrKindOfBrand Dawg!!!! RT @80sbaby...</td>\n",
       "    </tr>\n",
       "    <tr>\n",
       "      <th>3</th>\n",
       "      <td>3</td>\n",
       "      <td>3</td>\n",
       "      <td>0</td>\n",
       "      <td>2</td>\n",
       "      <td>1</td>\n",
       "      <td>1</td>\n",
       "      <td>!!!!!!!!! RT @C_G_Anderson: @viva_based she lo...</td>\n",
       "    </tr>\n",
       "    <tr>\n",
       "      <th>4</th>\n",
       "      <td>4</td>\n",
       "      <td>6</td>\n",
       "      <td>0</td>\n",
       "      <td>6</td>\n",
       "      <td>0</td>\n",
       "      <td>1</td>\n",
       "      <td>!!!!!!!!!!!!! RT @ShenikaRoberts: The shit you...</td>\n",
       "    </tr>\n",
       "  </tbody>\n",
       "</table>\n",
       "</div>"
      ],
      "text/plain": [
       "   Unnamed: 0  count  hate_speech  offensive_language  neither  class  \\\n",
       "0           0      3            0                   0        3      2   \n",
       "1           1      3            0                   3        0      1   \n",
       "2           2      3            0                   3        0      1   \n",
       "3           3      3            0                   2        1      1   \n",
       "4           4      6            0                   6        0      1   \n",
       "\n",
       "                                               tweet  \n",
       "0  !!! RT @mayasolovely: As a woman you shouldn't...  \n",
       "1  !!!!! RT @mleew17: boy dats cold...tyga dwn ba...  \n",
       "2  !!!!!!! RT @UrKindOfBrand Dawg!!!! RT @80sbaby...  \n",
       "3  !!!!!!!!! RT @C_G_Anderson: @viva_based she lo...  \n",
       "4  !!!!!!!!!!!!! RT @ShenikaRoberts: The shit you...  "
      ]
     },
     "execution_count": 226,
     "metadata": {},
     "output_type": "execute_result"
    }
   ],
   "source": [
    "twitter.head()"
   ]
  },
  {
   "cell_type": "code",
   "execution_count": null,
   "metadata": {},
   "outputs": [],
   "source": [
    " train1[(train1['toxic'] == 0) & (train1['severe_toxic'] == 0) & (train[1'obscene'] == 0) & (train1['threat'] == 0) \n",
    "                     & (train1['insult'] == 0) & (train['identity_hate'] == 0)].count()"
   ]
  },
  {
   "cell_type": "code",
   "execution_count": null,
   "metadata": {},
   "outputs": [],
   "source": []
  },
  {
   "cell_type": "code",
   "execution_count": 227,
   "metadata": {},
   "outputs": [],
   "source": [
    "train_plain =  train[(train['toxic'] == 0) & (train['severe_toxic'] == 0) & (train['obscene'] == 0) & (train['threat'] == 0) \n",
    "                     & (train['insult'] == 0) & (train['identity_hate'] == 0)]"
   ]
  },
  {
   "cell_type": "code",
   "execution_count": null,
   "metadata": {},
   "outputs": [],
   "source": []
  },
  {
   "cell_type": "code",
   "execution_count": 228,
   "metadata": {},
   "outputs": [
    {
     "data": {
      "text/plain": [
       "id               143346\n",
       "comment_text     143346\n",
       "toxic            143346\n",
       "severe_toxic     143346\n",
       "obscene          143346\n",
       "threat           143346\n",
       "insult           143346\n",
       "identity_hate    143346\n",
       "dtype: int64"
      ]
     },
     "execution_count": 228,
     "metadata": {},
     "output_type": "execute_result"
    }
   ],
   "source": [
    "train_plain.count()"
   ]
  },
  {
   "cell_type": "code",
   "execution_count": 189,
   "metadata": {},
   "outputs": [],
   "source": [
    "murder = train[train['comment_text'].apply(lambda x: 'murder' in x) & ((train['toxic'] == 1) | (train['severe_toxic'] == 1) | (train['obscene'] == 1) | (train['threat'] == 1) \n",
    "                     | (train['insult'] == 1) | (train['identity_hate'] == 1))]\n",
    "shoot = train[train['comment_text'].apply(lambda x: 'shoot' in x) & ((train['toxic'] == 1) | (train['severe_toxic'] == 1) | (train['obscene'] == 1) | (train['threat'] == 1) \n",
    "                     | (train['insult'] == 1) | (train['identity_hate'] == 1))]\n",
    "kill = train[train['comment_text'].apply(lambda x: 'kill' in x) & ((train['toxic'] == 1) | (train['severe_toxic'] == 1) | (train['obscene'] == 1) | (train['threat'] == 1) \n",
    "                     | (train['insult'] == 1) | (train['identity_hate'] == 1))]\n",
    "bomb = train[train['comment_text'].apply(lambda x: 'bomb' in x) & ((train['toxic'] == 1) | (train['severe_toxic'] == 1) | (train['obscene'] == 1) | (train['threat'] == 1) \n",
    "                     | (train['insult'] == 1) | (train['identity_hate'] == 1))]"
   ]
  },
  {
   "cell_type": "code",
   "execution_count": 190,
   "metadata": {},
   "outputs": [],
   "source": [
    "burn = train[train['comment_text'].apply(lambda x: 'burn' in x) & ((train['toxic'] == 1) | (train['severe_toxic'] == 1) | (train['obscene'] == 1) | (train['threat'] == 1) \n",
    "                     | (train['insult'] == 1) | (train['identity_hate'] == 1))]"
   ]
  },
  {
   "cell_type": "code",
   "execution_count": 191,
   "metadata": {},
   "outputs": [],
   "source": [
    "rape = train[train['comment_text'].apply(lambda x: 'rape' in x) & ((train['toxic'] == 1) | (train['severe_toxic'] == 1) | (train['obscene'] == 1) | (train['threat'] == 1) \n",
    "                     | (train['insult'] == 1) | (train['identity_hate'] == 1))]"
   ]
  },
  {
   "cell_type": "code",
   "execution_count": 192,
   "metadata": {},
   "outputs": [
    {
     "data": {
      "text/plain": [
       "id               144\n",
       "comment_text     144\n",
       "toxic            144\n",
       "severe_toxic     144\n",
       "obscene          144\n",
       "threat           144\n",
       "insult           144\n",
       "identity_hate    144\n",
       "dtype: int64"
      ]
     },
     "execution_count": 192,
     "metadata": {},
     "output_type": "execute_result"
    }
   ],
   "source": [
    "rape.count()"
   ]
  },
  {
   "cell_type": "code",
   "execution_count": 193,
   "metadata": {},
   "outputs": [],
   "source": [
    "school = train[train['comment_text'].apply(lambda x: 'school' in x) & ((train['toxic'] == 1) | (train['severe_toxic'] == 1) | (train['obscene'] == 1) | (train['threat'] == 1) \n",
    "                     | (train['insult'] == 1) | (train['identity_hate'] == 1))]"
   ]
  },
  {
   "cell_type": "code",
   "execution_count": 194,
   "metadata": {},
   "outputs": [],
   "source": [
    "teacher = train[train['comment_text'].apply(lambda x: 'teacher' in x) & ((train['toxic'] == 1) | (train['severe_toxic'] == 1) | (train['obscene'] == 1) | (train['threat'] == 1) \n",
    "                     | (train['insult'] == 1) | (train['identity_hate'] == 1))]"
   ]
  },
  {
   "cell_type": "code",
   "execution_count": 195,
   "metadata": {},
   "outputs": [
    {
     "data": {
      "text/plain": [
       "id               31\n",
       "comment_text     31\n",
       "toxic            31\n",
       "severe_toxic     31\n",
       "obscene          31\n",
       "threat           31\n",
       "insult           31\n",
       "identity_hate    31\n",
       "dtype: int64"
      ]
     },
     "execution_count": 195,
     "metadata": {},
     "output_type": "execute_result"
    }
   ],
   "source": [
    "teacher.count()"
   ]
  },
  {
   "cell_type": "code",
   "execution_count": 196,
   "metadata": {},
   "outputs": [
    {
     "data": {
      "text/html": [
       "<div>\n",
       "<style scoped>\n",
       "    .dataframe tbody tr th:only-of-type {\n",
       "        vertical-align: middle;\n",
       "    }\n",
       "\n",
       "    .dataframe tbody tr th {\n",
       "        vertical-align: top;\n",
       "    }\n",
       "\n",
       "    .dataframe thead th {\n",
       "        text-align: right;\n",
       "    }\n",
       "</style>\n",
       "<table border=\"1\" class=\"dataframe\">\n",
       "  <thead>\n",
       "    <tr style=\"text-align: right;\">\n",
       "      <th></th>\n",
       "      <th>id</th>\n",
       "      <th>comment_text</th>\n",
       "      <th>toxic</th>\n",
       "      <th>severe_toxic</th>\n",
       "      <th>obscene</th>\n",
       "      <th>threat</th>\n",
       "      <th>insult</th>\n",
       "      <th>identity_hate</th>\n",
       "    </tr>\n",
       "  </thead>\n",
       "  <tbody>\n",
       "    <tr>\n",
       "      <th>590</th>\n",
       "      <td>018e6f1e1b18723a</td>\n",
       "      <td>\"\\n\\n Another crap article \\nParrots what prom...</td>\n",
       "      <td>1</td>\n",
       "      <td>0</td>\n",
       "      <td>0</td>\n",
       "      <td>0</td>\n",
       "      <td>0</td>\n",
       "      <td>0</td>\n",
       "    </tr>\n",
       "    <tr>\n",
       "      <th>746</th>\n",
       "      <td>020316a0de9e0406</td>\n",
       "      <td>\"You know, I was thinking...\\n\\nNobody really ...</td>\n",
       "      <td>1</td>\n",
       "      <td>1</td>\n",
       "      <td>1</td>\n",
       "      <td>0</td>\n",
       "      <td>0</td>\n",
       "      <td>0</td>\n",
       "    </tr>\n",
       "    <tr>\n",
       "      <th>884</th>\n",
       "      <td>026a530134212936</td>\n",
       "      <td>\"\\n\\n I TAKE OFFENSE! \\n\\nI take great offense...</td>\n",
       "      <td>1</td>\n",
       "      <td>0</td>\n",
       "      <td>0</td>\n",
       "      <td>0</td>\n",
       "      <td>0</td>\n",
       "      <td>0</td>\n",
       "    </tr>\n",
       "    <tr>\n",
       "      <th>1361</th>\n",
       "      <td>03b209cb784d7a36</td>\n",
       "      <td>\"\\n\\nNo!  This is a GROUP EFFORT!  Wikipedia i...</td>\n",
       "      <td>1</td>\n",
       "      <td>0</td>\n",
       "      <td>1</td>\n",
       "      <td>0</td>\n",
       "      <td>0</td>\n",
       "      <td>0</td>\n",
       "    </tr>\n",
       "    <tr>\n",
       "      <th>2678</th>\n",
       "      <td>0735c7334d85c6aa</td>\n",
       "      <td>Issues with Knox \\n\\nKnox run things like Gala...</td>\n",
       "      <td>0</td>\n",
       "      <td>0</td>\n",
       "      <td>1</td>\n",
       "      <td>0</td>\n",
       "      <td>1</td>\n",
       "      <td>0</td>\n",
       "    </tr>\n",
       "  </tbody>\n",
       "</table>\n",
       "</div>"
      ],
      "text/plain": [
       "                    id                                       comment_text  \\\n",
       "590   018e6f1e1b18723a  \"\\n\\n Another crap article \\nParrots what prom...   \n",
       "746   020316a0de9e0406  \"You know, I was thinking...\\n\\nNobody really ...   \n",
       "884   026a530134212936  \"\\n\\n I TAKE OFFENSE! \\n\\nI take great offense...   \n",
       "1361  03b209cb784d7a36  \"\\n\\nNo!  This is a GROUP EFFORT!  Wikipedia i...   \n",
       "2678  0735c7334d85c6aa  Issues with Knox \\n\\nKnox run things like Gala...   \n",
       "\n",
       "      toxic  severe_toxic  obscene  threat  insult  identity_hate  \n",
       "590       1             0        0       0       0              0  \n",
       "746       1             1        1       0       0              0  \n",
       "884       1             0        0       0       0              0  \n",
       "1361      1             0        1       0       0              0  \n",
       "2678      0             0        1       0       1              0  "
      ]
     },
     "execution_count": 196,
     "metadata": {},
     "output_type": "execute_result"
    }
   ],
   "source": [
    "school.head()"
   ]
  },
  {
   "cell_type": "code",
   "execution_count": 197,
   "metadata": {},
   "outputs": [
    {
     "data": {
      "text/plain": [
       "Unnamed: 0       311\n",
       "id               311\n",
       "comment_text     311\n",
       "toxic            311\n",
       "severe_toxic     311\n",
       "obscene          311\n",
       "threat           311\n",
       "insult           311\n",
       "identity_hate    311\n",
       "dtype: int64"
      ]
     },
     "execution_count": 197,
     "metadata": {},
     "output_type": "execute_result"
    }
   ],
   "source": [
    "train1[(train1['toxic'] == 0) & (train1['severe_toxic'] == 0) & (train1['obscene'] == 0) & (train1['threat'] == 0) \n",
    "                     & (train1['insult'] == 0) & (train1['identity_hate'] == 0)].count()"
   ]
  },
  {
   "cell_type": "code",
   "execution_count": 198,
   "metadata": {},
   "outputs": [
    {
     "data": {
      "text/plain": [
       "Unnamed: 0       408\n",
       "id               408\n",
       "comment_text     408\n",
       "toxic            408\n",
       "severe_toxic     408\n",
       "obscene          408\n",
       "threat           408\n",
       "insult           408\n",
       "identity_hate    408\n",
       "dtype: int64"
      ]
     },
     "execution_count": 198,
     "metadata": {},
     "output_type": "execute_result"
    }
   ],
   "source": [
    "train1.count()"
   ]
  },
  {
   "cell_type": "code",
   "execution_count": 199,
   "metadata": {},
   "outputs": [
    {
     "name": "stdout",
     "output_type": "stream",
     "text": [
      "id               66\n",
      "comment_text     66\n",
      "toxic            66\n",
      "severe_toxic     66\n",
      "obscene          66\n",
      "threat           66\n",
      "insult           66\n",
      "identity_hate    66\n",
      "dtype: int64\n",
      "id               55\n",
      "comment_text     55\n",
      "toxic            55\n",
      "severe_toxic     55\n",
      "obscene          55\n",
      "threat           55\n",
      "insult           55\n",
      "identity_hate    55\n",
      "dtype: int64\n",
      "id               359\n",
      "comment_text     359\n",
      "toxic            359\n",
      "severe_toxic     359\n",
      "obscene          359\n",
      "threat           359\n",
      "insult           359\n",
      "identity_hate    359\n",
      "dtype: int64\n",
      "id               48\n",
      "comment_text     48\n",
      "toxic            48\n",
      "severe_toxic     48\n",
      "obscene          48\n",
      "threat           48\n",
      "insult           48\n",
      "identity_hate    48\n",
      "dtype: int64\n"
     ]
    }
   ],
   "source": [
    "print murder.count()\n",
    "print shoot.count()\n",
    "print kill.count()\n",
    "print bomb.count()"
   ]
  },
  {
   "cell_type": "code",
   "execution_count": 200,
   "metadata": {},
   "outputs": [],
   "source": [
    "school = school.sample(n=50)"
   ]
  },
  {
   "cell_type": "code",
   "execution_count": 201,
   "metadata": {},
   "outputs": [],
   "source": [
    "rape = rape.sample(n=60)"
   ]
  },
  {
   "cell_type": "code",
   "execution_count": 202,
   "metadata": {},
   "outputs": [],
   "source": [
    "burn = burn.sample(n=50)"
   ]
  },
  {
   "cell_type": "code",
   "execution_count": 203,
   "metadata": {},
   "outputs": [
    {
     "data": {
      "text/plain": [
       "id               66\n",
       "comment_text     66\n",
       "toxic            66\n",
       "severe_toxic     66\n",
       "obscene          66\n",
       "threat           66\n",
       "insult           66\n",
       "identity_hate    66\n",
       "dtype: int64"
      ]
     },
     "execution_count": 203,
     "metadata": {},
     "output_type": "execute_result"
    }
   ],
   "source": [
    "bomb = bomb.sample(n=48)\n",
    "murder.count()"
   ]
  },
  {
   "cell_type": "code",
   "execution_count": 204,
   "metadata": {},
   "outputs": [
    {
     "data": {
      "text/plain": [
       "id               50\n",
       "comment_text     50\n",
       "toxic            50\n",
       "severe_toxic     50\n",
       "obscene          50\n",
       "threat           50\n",
       "insult           50\n",
       "identity_hate    50\n",
       "dtype: int64"
      ]
     },
     "execution_count": 204,
     "metadata": {},
     "output_type": "execute_result"
    }
   ],
   "source": [
    "shoot_50 = shoot.sample(n=50)\n",
    "shoot_50.count()"
   ]
  },
  {
   "cell_type": "code",
   "execution_count": 207,
   "metadata": {},
   "outputs": [
    {
     "data": {
      "text/plain": [
       "id               50\n",
       "comment_text     50\n",
       "toxic            50\n",
       "severe_toxic     50\n",
       "obscene          50\n",
       "threat           50\n",
       "insult           50\n",
       "identity_hate    50\n",
       "dtype: int64"
      ]
     },
     "execution_count": 207,
     "metadata": {},
     "output_type": "execute_result"
    }
   ],
   "source": [
    "murder_50 = murder.sample(n=50)\n",
    "murder_50.count()"
   ]
  },
  {
   "cell_type": "code",
   "execution_count": 208,
   "metadata": {},
   "outputs": [
    {
     "data": {
      "text/plain": [
       "id               150\n",
       "comment_text     150\n",
       "toxic            150\n",
       "severe_toxic     150\n",
       "obscene          150\n",
       "threat           150\n",
       "insult           150\n",
       "identity_hate    150\n",
       "dtype: int64"
      ]
     },
     "execution_count": 208,
     "metadata": {},
     "output_type": "execute_result"
    }
   ],
   "source": [
    "kill_sample = kill.sample(n=150)\n",
    "kill_sample.count()"
   ]
  },
  {
   "cell_type": "code",
   "execution_count": 209,
   "metadata": {},
   "outputs": [
    {
     "data": {
      "text/html": [
       "<div>\n",
       "<style scoped>\n",
       "    .dataframe tbody tr th:only-of-type {\n",
       "        vertical-align: middle;\n",
       "    }\n",
       "\n",
       "    .dataframe tbody tr th {\n",
       "        vertical-align: top;\n",
       "    }\n",
       "\n",
       "    .dataframe thead th {\n",
       "        text-align: right;\n",
       "    }\n",
       "</style>\n",
       "<table border=\"1\" class=\"dataframe\">\n",
       "  <thead>\n",
       "    <tr style=\"text-align: right;\">\n",
       "      <th></th>\n",
       "      <th>id</th>\n",
       "      <th>comment_text</th>\n",
       "      <th>toxic</th>\n",
       "      <th>severe_toxic</th>\n",
       "      <th>obscene</th>\n",
       "      <th>threat</th>\n",
       "      <th>insult</th>\n",
       "      <th>identity_hate</th>\n",
       "    </tr>\n",
       "  </thead>\n",
       "  <tbody>\n",
       "    <tr>\n",
       "      <th>141208</th>\n",
       "      <td>f3850c01254d69d1</td>\n",
       "      <td>\":A certain admin will block you if you tell t...</td>\n",
       "      <td>1</td>\n",
       "      <td>0</td>\n",
       "      <td>0</td>\n",
       "      <td>0</td>\n",
       "      <td>0</td>\n",
       "      <td>0</td>\n",
       "    </tr>\n",
       "    <tr>\n",
       "      <th>24371</th>\n",
       "      <td>405bda134182afc4</td>\n",
       "      <td>\"\\n\\nThis article is ludicrous, it paints anti...</td>\n",
       "      <td>1</td>\n",
       "      <td>0</td>\n",
       "      <td>1</td>\n",
       "      <td>0</td>\n",
       "      <td>1</td>\n",
       "      <td>0</td>\n",
       "    </tr>\n",
       "    <tr>\n",
       "      <th>100818</th>\n",
       "      <td>1b9bf71b6c587ac5</td>\n",
       "      <td>Tariq Aziz is a lapsed Christian and so hardly...</td>\n",
       "      <td>1</td>\n",
       "      <td>0</td>\n",
       "      <td>0</td>\n",
       "      <td>0</td>\n",
       "      <td>1</td>\n",
       "      <td>0</td>\n",
       "    </tr>\n",
       "    <tr>\n",
       "      <th>152093</th>\n",
       "      <td>87d6a69592aa936e</td>\n",
       "      <td>EVula you may have blocked my friends but you ...</td>\n",
       "      <td>1</td>\n",
       "      <td>0</td>\n",
       "      <td>0</td>\n",
       "      <td>1</td>\n",
       "      <td>0</td>\n",
       "      <td>0</td>\n",
       "    </tr>\n",
       "    <tr>\n",
       "      <th>157239</th>\n",
       "      <td>dae9e1bad382cb37</td>\n",
       "      <td>F' you turk\\n\\nit is funny you have to live in...</td>\n",
       "      <td>1</td>\n",
       "      <td>0</td>\n",
       "      <td>1</td>\n",
       "      <td>0</td>\n",
       "      <td>1</td>\n",
       "      <td>1</td>\n",
       "    </tr>\n",
       "  </tbody>\n",
       "</table>\n",
       "</div>"
      ],
      "text/plain": [
       "                      id                                       comment_text  \\\n",
       "141208  f3850c01254d69d1  \":A certain admin will block you if you tell t...   \n",
       "24371   405bda134182afc4  \"\\n\\nThis article is ludicrous, it paints anti...   \n",
       "100818  1b9bf71b6c587ac5  Tariq Aziz is a lapsed Christian and so hardly...   \n",
       "152093  87d6a69592aa936e  EVula you may have blocked my friends but you ...   \n",
       "157239  dae9e1bad382cb37  F' you turk\\n\\nit is funny you have to live in...   \n",
       "\n",
       "        toxic  severe_toxic  obscene  threat  insult  identity_hate  \n",
       "141208      1             0        0       0       0              0  \n",
       "24371       1             0        1       0       1              0  \n",
       "100818      1             0        0       0       1              0  \n",
       "152093      1             0        0       1       0              0  \n",
       "157239      1             0        1       0       1              1  "
      ]
     },
     "execution_count": 209,
     "metadata": {},
     "output_type": "execute_result"
    }
   ],
   "source": [
    "murder_50.head()"
   ]
  },
  {
   "cell_type": "code",
   "execution_count": 210,
   "metadata": {},
   "outputs": [],
   "source": [
    "toxic_plain = pd.concat([train1,bomb,kill_sample,shoot,murder,rape,school,teacher])"
   ]
  },
  {
   "cell_type": "code",
   "execution_count": 211,
   "metadata": {},
   "outputs": [],
   "source": [
    "del toxic_plain['Unnamed: 0']"
   ]
  },
  {
   "cell_type": "code",
   "execution_count": 212,
   "metadata": {},
   "outputs": [
    {
     "data": {
      "text/plain": [
       "comment_text     868\n",
       "id               868\n",
       "identity_hate    868\n",
       "insult           868\n",
       "obscene          868\n",
       "severe_toxic     868\n",
       "threat           868\n",
       "toxic            868\n",
       "dtype: int64"
      ]
     },
     "execution_count": 212,
     "metadata": {},
     "output_type": "execute_result"
    }
   ],
   "source": [
    "toxic_plain.count()"
   ]
  },
  {
   "cell_type": "code",
   "execution_count": 213,
   "metadata": {},
   "outputs": [
    {
     "data": {
      "text/plain": [
       "173       \"\\n\\n#2 Richard 20:53 20Feb\\nYeah, so the prob...\n",
       "124593    I didn't initiate the attacks, just responded ...\n",
       "107692    Nazis murdered six million of my people. Why s...\n",
       "67410     I am going to kill you. I am going to murder you.\n",
       "655       Wikipedia administrators are defending a mass-...\n",
       "877                          Fuck off you murdering scum!!!\n",
       "2533      \"\\n\\nI like the way you forget about all the t...\n",
       "4049      \"\\n\\n Barbarians \\n\\nThe Chinese as a country ...\n",
       "5654      stop murder \\n\\nYou are very unfriendly and fa...\n",
       "8979      I am going to kill you. I am going to murder y...\n",
       "12256     What are your motivations for Vandalizing arti...\n",
       "13964     I am going to murder ZimZalaBim ST47 for being...\n",
       "21733     .\\n\\nMuhammad was a dirty warmonger, murderer,...\n",
       "22598     \"\\n\\nYour accusations are false and malicious....\n",
       "23609     Last warning\\n\\nNow I will give you a warning ...\n",
       "24371     \"\\n\\nThis article is ludicrous, it paints anti...\n",
       "34818     You. \\n\\nYou're such a sad person, the fact yo...\n",
       "35988     Hey Defiance- this lady is CRAZY- she only edi...\n",
       "36713     You fucking piece of shit \\n\\nI'm going to hun...\n",
       "37188     become baby killers and mass murderers of toda...\n",
       "37229     February 2009 (UTC)\\nLet's not forget rapist, ...\n",
       "37626     Who cares? The janjaweed are just a bunch of m...\n",
       "49087     albert einstine was a foorball player for the ...\n",
       "55365     I can't believe you fucking wikipedos.  I'm go...\n",
       "55709     Cause of Death \\n\\nFuck exicution, put down Mu...\n",
       "56336                           ritual murder ritual murder\n",
       "61157     Can you think of a compelling reason... \\n\\nas...\n",
       "66580     Mass Murder \\nChe Guevara was a mass murderer....\n",
       "67323     He's not gonna do that and not without good re...\n",
       "67410     I am going to kill you. I am going to murder you.\n",
       "70020     \"Cut the crap already. Unless you're a pedophi...\n",
       "72960     \"\\nNo, sir, this comment is disgusting.  You o...\n",
       "73693     Mass Murder \\nTAB \\nChe Guevara was a mass mur...\n",
       "76499     \"\\n\\nBig Pro-Choice dyke\\n\\nHey bitch, if you'...\n",
       "77172     Neda \\n\\nIts not enough for you to propagate t...\n",
       "77555     You are absurd. You are defending a page of na...\n",
       "78285     I will murder your pets and slash your tires. ...\n",
       "81891     \"\\nYou are actually trying to goad me into an ...\n",
       "82785     Sorry Tajik, \\nbut an answer was in need. \\n\\n...\n",
       "83356     Okay, so anal sex is as widely unaccepted and ...\n",
       "85608     Anushirvan, Khampalak is just hurted that he i...\n",
       "85726                          Crapman is a murdering cunt!\n",
       "87050     In between the rapes, torture and murder I do ...\n",
       "95823     Milton cooper was a criminal \\n\\nWhy you defen...\n",
       "98774     \"\\n\\n stop stupid acusations \\nI find it unacc...\n",
       "100818    Tariq Aziz is a lapsed Christian and so hardly...\n",
       "101610    Thx for LOL \\n\\nYou are a steaming, shocking p...\n",
       "106617    , I hope your retarded kids get anal raped and...\n",
       "Name: comment_text, dtype: object"
      ]
     },
     "execution_count": 213,
     "metadata": {},
     "output_type": "execute_result"
    }
   ],
   "source": [
    "toxic_plain[toxic_plain[\"comment_text\"].apply(lambda a:\"murder\" in a)]['comment_text'\n",
    "].iloc[0:48]"
   ]
  },
  {
   "cell_type": "code",
   "execution_count": null,
   "metadata": {},
   "outputs": [],
   "source": []
  },
  {
   "cell_type": "code",
   "execution_count": 214,
   "metadata": {},
   "outputs": [],
   "source": [
    "toxic_plain=toxic_plain.sample(frac =1).reset_index(drop = True)"
   ]
  },
  {
   "cell_type": "code",
   "execution_count": 215,
   "metadata": {},
   "outputs": [
    {
     "data": {
      "text/plain": [
       "comment_text     868\n",
       "id               868\n",
       "identity_hate    868\n",
       "insult           868\n",
       "obscene          868\n",
       "severe_toxic     868\n",
       "threat           868\n",
       "toxic            868\n",
       "dtype: int64"
      ]
     },
     "execution_count": 215,
     "metadata": {},
     "output_type": "execute_result"
    }
   ],
   "source": [
    "toxic_plain.count()"
   ]
  },
  {
   "cell_type": "code",
   "execution_count": 216,
   "metadata": {},
   "outputs": [],
   "source": [
    "# toxic_plain=toxic_plain[(toxic_plain['toxic'] == 0) & (toxic_plain['severe_toxic'] == 0) & (toxic_plain['obscene'] == 0) & (toxic_plain['threat'] == 0) \n",
    "#                      & (toxic_plain['insult'] == 0) & (toxic_plain['identity_hate'] == 0)].sample(n=150)"
   ]
  },
  {
   "cell_type": "code",
   "execution_count": 217,
   "metadata": {},
   "outputs": [
    {
     "data": {
      "text/plain": [
       "comment_text     868\n",
       "id               868\n",
       "identity_hate    868\n",
       "insult           868\n",
       "obscene          868\n",
       "severe_toxic     868\n",
       "threat           868\n",
       "toxic            868\n",
       "dtype: int64"
      ]
     },
     "execution_count": 217,
     "metadata": {},
     "output_type": "execute_result"
    }
   ],
   "source": [
    "toxic_plain.count()"
   ]
  },
  {
   "cell_type": "code",
   "execution_count": 218,
   "metadata": {},
   "outputs": [],
   "source": [
    "toxic_plain.to_csv('/home/ammar/study/8th semester/FYP/toxic comments/final/train_800.csv')"
   ]
  },
  {
   "cell_type": "code",
   "execution_count": 221,
   "metadata": {},
   "outputs": [
    {
     "name": "stderr",
     "output_type": "stream",
     "text": [
      "/home/ammar/.local/lib/python2.7/site-packages/ipykernel_launcher.py:2: UserWarning: Boolean Series key will be reindexed to match DataFrame index.\n",
      "  \n"
     ]
    }
   ],
   "source": [
    "toxic_plain =  toxic_plain[(train['toxic'] == 0) & (toxic_plain['severe_toxic'] == 0) & (toxic_plain['obscene'] == 0) & (toxic_plain['threat'] == 0) \n",
    "                     & (toxic_plain['insult'] == 0) & (toxic_plain['identity_hate'] == 0)]"
   ]
  },
  {
   "cell_type": "code",
   "execution_count": 223,
   "metadata": {},
   "outputs": [
    {
     "data": {
      "text/plain": [
       "comment_text     417\n",
       "id               417\n",
       "identity_hate    417\n",
       "insult           417\n",
       "obscene          417\n",
       "severe_toxic     417\n",
       "threat           417\n",
       "toxic            417\n",
       "dtype: int64"
      ]
     },
     "execution_count": 223,
     "metadata": {},
     "output_type": "execute_result"
    }
   ],
   "source": [
    "toxic_plain.count()"
   ]
  },
  {
   "cell_type": "code",
   "execution_count": null,
   "metadata": {},
   "outputs": [],
   "source": []
  }
 ],
 "metadata": {
  "kernelspec": {
   "display_name": "Python 2",
   "language": "python",
   "name": "python2"
  },
  "language_info": {
   "codemirror_mode": {
    "name": "ipython",
    "version": 2
   },
   "file_extension": ".py",
   "mimetype": "text/x-python",
   "name": "python",
   "nbconvert_exporter": "python",
   "pygments_lexer": "ipython2",
   "version": "2.7.12"
  }
 },
 "nbformat": 4,
 "nbformat_minor": 2
}
