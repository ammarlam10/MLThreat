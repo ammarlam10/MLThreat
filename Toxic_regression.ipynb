{
 "cells": [
  {
   "cell_type": "code",
   "execution_count": 66,
   "metadata": {},
   "outputs": [],
   "source": [
    "import cPickle as pickle\n",
    "import pandas as pd, numpy as np\n",
    "from sklearn.linear_model import LogisticRegression\n",
    "from sklearn.feature_extraction.text import CountVectorizer, TfidfVectorizer"
   ]
  },
  {
   "cell_type": "code",
   "execution_count": 67,
   "metadata": {},
   "outputs": [],
   "source": [
    "train = pd.read_csv('./final/train_800.csv')\n",
    "test = pd.read_csv('./test.csv')\n",
    "subm = pd.read_csv('./sample_submission.csv')\n",
    "\n"
   ]
  },
  {
   "cell_type": "code",
   "execution_count": 68,
   "metadata": {},
   "outputs": [],
   "source": [
    "test.drop(test.index, inplace=True)"
   ]
  },
  {
   "cell_type": "code",
   "execution_count": 69,
   "metadata": {},
   "outputs": [
    {
     "data": {
      "text/html": [
       "<div>\n",
       "<style scoped>\n",
       "    .dataframe tbody tr th:only-of-type {\n",
       "        vertical-align: middle;\n",
       "    }\n",
       "\n",
       "    .dataframe tbody tr th {\n",
       "        vertical-align: top;\n",
       "    }\n",
       "\n",
       "    .dataframe thead th {\n",
       "        text-align: right;\n",
       "    }\n",
       "</style>\n",
       "<table border=\"1\" class=\"dataframe\">\n",
       "  <thead>\n",
       "    <tr style=\"text-align: right;\">\n",
       "      <th></th>\n",
       "      <th>id</th>\n",
       "      <th>comment_text</th>\n",
       "    </tr>\n",
       "  </thead>\n",
       "  <tbody>\n",
       "  </tbody>\n",
       "</table>\n",
       "</div>"
      ],
      "text/plain": [
       "Empty DataFrame\n",
       "Columns: [id, comment_text]\n",
       "Index: []"
      ]
     },
     "execution_count": 69,
     "metadata": {},
     "output_type": "execute_result"
    }
   ],
   "source": [
    "test.head()"
   ]
  },
  {
   "cell_type": "code",
   "execution_count": 70,
   "metadata": {},
   "outputs": [
    {
     "data": {
      "text/plain": [
       "Unnamed: 0       1068\n",
       "comment_text     1068\n",
       "id               1068\n",
       "identity_hate    1068\n",
       "insult           1068\n",
       "obscene          1068\n",
       "severe_toxic     1068\n",
       "threat           1068\n",
       "toxic            1068\n",
       "dtype: int64"
      ]
     },
     "execution_count": 70,
     "metadata": {},
     "output_type": "execute_result"
    }
   ],
   "source": [
    "train.count()"
   ]
  },
  {
   "cell_type": "code",
   "execution_count": 88,
   "metadata": {},
   "outputs": [],
   "source": [
    "test = pd.DataFrame([['1', 'fuck hisham'],\n",
    "                     ['2', 'Ill kill her'],\n",
    "                     ['3', 'I hate her'],\n",
    "                     ['4', 'I\\'ll blow up my school'],\n",
    "                     ['5','My teacher hates me, never listens to my reasoning'],\n",
    "                     ['6','I feel like murdering her'],\n",
    "                     ['7','hey dont say that'],\n",
    "                     ['8','what am I gonna do about her?'],\n",
    "                     ['9','idk'],\n",
    "                     ['10','I\\'ll probably murder her']\n",
    "                    ], columns=['id', 'comment_text'])"
   ]
  },
  {
   "cell_type": "code",
   "execution_count": 108,
   "metadata": {},
   "outputs": [],
   "source": [
    "test = pd.DataFrame( [[\"user1\", \"Listen where are you?\"],\n",
    "          [\"user2\", \"I am in the opposite building\"] ,\n",
    "         [\"user1\",  \"Okay meet me in the foyer after 10mins and we’ll grab Ali and take him in the football ground\"],\n",
    "         [\"user2\", \"Do you have something to attack him?\"] ,\n",
    "         [\"user1\",  \"Yes I have a blade in my bag\"]], columns=['id', 'comment_text'])"
   ]
  },
  {
   "cell_type": "code",
   "execution_count": 127,
   "metadata": {},
   "outputs": [],
   "source": [
    "test = pd.DataFrame( [[\"user1\", \"Hide the knife somewhere before somebody sees it\"],\n",
    "          [\"user2\", \"Do not worry I have wrapped it and hid in my bag\"] ,\n",
    "         [\"user1\",  \"We will throw the knife once we get out of here\"],\n",
    "         [\"user2\", \"yes for sure\"]] \n",
    "                      , columns=['id', 'comment_text'])"
   ]
  },
  {
   "cell_type": "code",
   "execution_count": 154,
   "metadata": {},
   "outputs": [],
   "source": [
    "test = pd.DataFrame( [[\"user1\", \"What are you doing now?\"],\n",
    "          [\"user2\", \"I am playing pool with my friends at a pool hall.\"] ,\n",
    "         [\"user1\",  \"I didn't know you play pool. Are you having fun?\"],\n",
    "         [\"user2\", \"I'm having a great time. How about you? What are you doing?\"],\n",
    "        [\"user1\", \"I'm glad I'm not in your shoes.\"],\n",
    "        [\"user2\",\"I'm taking a break from my homework. There seems to be no end to the amount of work I have to do.\"]] \n",
    "                      , columns=['id', 'comment_text'])"
   ]
  },
  {
   "cell_type": "code",
   "execution_count": 172,
   "metadata": {},
   "outputs": [],
   "source": [
    "test = pd.DataFrame( [[\"user1\", \"I not in a mood. fuck off\"],\n",
    "          [\"user2\", \"How to make a bomb\"] ,\n",
    "         [\"user1\",  \"I hate you\"],\n",
    "         [\"user2\", \"I dont hate you\"]] \n",
    "                      , columns=['id', 'comment_text'])"
   ]
  },
  {
   "cell_type": "code",
   "execution_count": 173,
   "metadata": {},
   "outputs": [
    {
     "data": {
      "text/html": [
       "<div>\n",
       "<style scoped>\n",
       "    .dataframe tbody tr th:only-of-type {\n",
       "        vertical-align: middle;\n",
       "    }\n",
       "\n",
       "    .dataframe tbody tr th {\n",
       "        vertical-align: top;\n",
       "    }\n",
       "\n",
       "    .dataframe thead th {\n",
       "        text-align: right;\n",
       "    }\n",
       "</style>\n",
       "<table border=\"1\" class=\"dataframe\">\n",
       "  <thead>\n",
       "    <tr style=\"text-align: right;\">\n",
       "      <th></th>\n",
       "      <th>id</th>\n",
       "      <th>comment_text</th>\n",
       "    </tr>\n",
       "  </thead>\n",
       "  <tbody>\n",
       "    <tr>\n",
       "      <th>0</th>\n",
       "      <td>user1</td>\n",
       "      <td>I not in a mood. fuck off</td>\n",
       "    </tr>\n",
       "    <tr>\n",
       "      <th>1</th>\n",
       "      <td>user2</td>\n",
       "      <td>How to make a bomb</td>\n",
       "    </tr>\n",
       "    <tr>\n",
       "      <th>2</th>\n",
       "      <td>user1</td>\n",
       "      <td>I hate you</td>\n",
       "    </tr>\n",
       "    <tr>\n",
       "      <th>3</th>\n",
       "      <td>user2</td>\n",
       "      <td>I dont hate you</td>\n",
       "    </tr>\n",
       "  </tbody>\n",
       "</table>\n",
       "</div>"
      ],
      "text/plain": [
       "      id               comment_text\n",
       "0  user1  I not in a mood. fuck off\n",
       "1  user2         How to make a bomb\n",
       "2  user1                 I hate you\n",
       "3  user2            I dont hate you"
      ]
     },
     "execution_count": 173,
     "metadata": {},
     "output_type": "execute_result"
    }
   ],
   "source": [
    "test"
   ]
  },
  {
   "cell_type": "code",
   "execution_count": 174,
   "metadata": {},
   "outputs": [
    {
     "data": {
      "text/html": [
       "<div>\n",
       "<style scoped>\n",
       "    .dataframe tbody tr th:only-of-type {\n",
       "        vertical-align: middle;\n",
       "    }\n",
       "\n",
       "    .dataframe tbody tr th {\n",
       "        vertical-align: top;\n",
       "    }\n",
       "\n",
       "    .dataframe thead th {\n",
       "        text-align: right;\n",
       "    }\n",
       "</style>\n",
       "<table border=\"1\" class=\"dataframe\">\n",
       "  <thead>\n",
       "    <tr style=\"text-align: right;\">\n",
       "      <th></th>\n",
       "      <th>Unnamed: 0</th>\n",
       "      <th>identity_hate</th>\n",
       "      <th>insult</th>\n",
       "      <th>obscene</th>\n",
       "      <th>severe_toxic</th>\n",
       "      <th>threat</th>\n",
       "      <th>toxic</th>\n",
       "      <th>none</th>\n",
       "    </tr>\n",
       "  </thead>\n",
       "  <tbody>\n",
       "    <tr>\n",
       "      <th>count</th>\n",
       "      <td>1068.000000</td>\n",
       "      <td>1068.000000</td>\n",
       "      <td>1068.000000</td>\n",
       "      <td>1068.000000</td>\n",
       "      <td>1068.000000</td>\n",
       "      <td>1068.000000</td>\n",
       "      <td>1068.000000</td>\n",
       "      <td>1068.000000</td>\n",
       "    </tr>\n",
       "    <tr>\n",
       "      <th>mean</th>\n",
       "      <td>533.500000</td>\n",
       "      <td>0.106742</td>\n",
       "      <td>0.261236</td>\n",
       "      <td>0.205993</td>\n",
       "      <td>0.098315</td>\n",
       "      <td>0.131086</td>\n",
       "      <td>0.487828</td>\n",
       "      <td>0.478464</td>\n",
       "    </tr>\n",
       "    <tr>\n",
       "      <th>std</th>\n",
       "      <td>308.449348</td>\n",
       "      <td>0.308929</td>\n",
       "      <td>0.439514</td>\n",
       "      <td>0.404614</td>\n",
       "      <td>0.297879</td>\n",
       "      <td>0.337653</td>\n",
       "      <td>0.500086</td>\n",
       "      <td>0.499770</td>\n",
       "    </tr>\n",
       "    <tr>\n",
       "      <th>min</th>\n",
       "      <td>0.000000</td>\n",
       "      <td>0.000000</td>\n",
       "      <td>0.000000</td>\n",
       "      <td>0.000000</td>\n",
       "      <td>0.000000</td>\n",
       "      <td>0.000000</td>\n",
       "      <td>0.000000</td>\n",
       "      <td>0.000000</td>\n",
       "    </tr>\n",
       "    <tr>\n",
       "      <th>25%</th>\n",
       "      <td>266.750000</td>\n",
       "      <td>0.000000</td>\n",
       "      <td>0.000000</td>\n",
       "      <td>0.000000</td>\n",
       "      <td>0.000000</td>\n",
       "      <td>0.000000</td>\n",
       "      <td>0.000000</td>\n",
       "      <td>0.000000</td>\n",
       "    </tr>\n",
       "    <tr>\n",
       "      <th>50%</th>\n",
       "      <td>533.500000</td>\n",
       "      <td>0.000000</td>\n",
       "      <td>0.000000</td>\n",
       "      <td>0.000000</td>\n",
       "      <td>0.000000</td>\n",
       "      <td>0.000000</td>\n",
       "      <td>0.000000</td>\n",
       "      <td>0.000000</td>\n",
       "    </tr>\n",
       "    <tr>\n",
       "      <th>75%</th>\n",
       "      <td>800.250000</td>\n",
       "      <td>0.000000</td>\n",
       "      <td>1.000000</td>\n",
       "      <td>0.000000</td>\n",
       "      <td>0.000000</td>\n",
       "      <td>0.000000</td>\n",
       "      <td>1.000000</td>\n",
       "      <td>1.000000</td>\n",
       "    </tr>\n",
       "    <tr>\n",
       "      <th>max</th>\n",
       "      <td>1067.000000</td>\n",
       "      <td>1.000000</td>\n",
       "      <td>1.000000</td>\n",
       "      <td>1.000000</td>\n",
       "      <td>1.000000</td>\n",
       "      <td>1.000000</td>\n",
       "      <td>1.000000</td>\n",
       "      <td>1.000000</td>\n",
       "    </tr>\n",
       "  </tbody>\n",
       "</table>\n",
       "</div>"
      ],
      "text/plain": [
       "        Unnamed: 0  identity_hate       insult      obscene  severe_toxic  \\\n",
       "count  1068.000000    1068.000000  1068.000000  1068.000000   1068.000000   \n",
       "mean    533.500000       0.106742     0.261236     0.205993      0.098315   \n",
       "std     308.449348       0.308929     0.439514     0.404614      0.297879   \n",
       "min       0.000000       0.000000     0.000000     0.000000      0.000000   \n",
       "25%     266.750000       0.000000     0.000000     0.000000      0.000000   \n",
       "50%     533.500000       0.000000     0.000000     0.000000      0.000000   \n",
       "75%     800.250000       0.000000     1.000000     0.000000      0.000000   \n",
       "max    1067.000000       1.000000     1.000000     1.000000      1.000000   \n",
       "\n",
       "            threat        toxic         none  \n",
       "count  1068.000000  1068.000000  1068.000000  \n",
       "mean      0.131086     0.487828     0.478464  \n",
       "std       0.337653     0.500086     0.499770  \n",
       "min       0.000000     0.000000     0.000000  \n",
       "25%       0.000000     0.000000     0.000000  \n",
       "50%       0.000000     0.000000     0.000000  \n",
       "75%       0.000000     1.000000     1.000000  \n",
       "max       1.000000     1.000000     1.000000  "
      ]
     },
     "execution_count": 174,
     "metadata": {},
     "output_type": "execute_result"
    }
   ],
   "source": [
    "label_cols = ['toxic', 'severe_toxic', 'obscene', 'threat', 'insult', 'identity_hate']\n",
    "train['none'] = 1-train[label_cols].max(axis=1)\n",
    "train.describe()"
   ]
  },
  {
   "cell_type": "code",
   "execution_count": 175,
   "metadata": {},
   "outputs": [
    {
     "data": {
      "text/plain": [
       "(1068, 4)"
      ]
     },
     "execution_count": 175,
     "metadata": {},
     "output_type": "execute_result"
    }
   ],
   "source": [
    "len(train),len(test)"
   ]
  },
  {
   "cell_type": "code",
   "execution_count": 176,
   "metadata": {},
   "outputs": [],
   "source": [
    "COMMENT = 'comment_text'\n",
    "train[COMMENT].fillna(\"unknown\", inplace=True)\n",
    "test[COMMENT].fillna(\"unknown\", inplace=True)"
   ]
  },
  {
   "cell_type": "code",
   "execution_count": 177,
   "metadata": {},
   "outputs": [],
   "source": [
    "import re,string\n",
    "re_tok = re.compile(re.escape(string.punctuation))"
   ]
  },
  {
   "cell_type": "code",
   "execution_count": 178,
   "metadata": {},
   "outputs": [],
   "source": [
    "def tokenize(s): return re_tok.sub(r' \\1 ', s).split()"
   ]
  },
  {
   "cell_type": "code",
   "execution_count": 179,
   "metadata": {},
   "outputs": [],
   "source": [
    "n = train.shape[0]\n",
    "vec = TfidfVectorizer(ngram_range=(1,2), tokenizer=tokenize,\n",
    "               min_df=3, max_df=0.9, strip_accents='unicode', use_idf=1,\n",
    "               smooth_idf=1, sublinear_tf=1 )\n",
    "trn_term_doc = vec.fit_transform(train[COMMENT])\n",
    "with open('/home/ammar/study/8th semester/FYP/toxic comments/final/800/vec','wb') as fp:\n",
    "        pickle.dump(vec,fp)\n",
    "test_term_doc = vec.transform(test[COMMENT])"
   ]
  },
  {
   "cell_type": "code",
   "execution_count": 180,
   "metadata": {},
   "outputs": [],
   "source": [
    "def pr(y_i, y):\n",
    "    p = x[y==y_i].sum(0)\n",
    "    return (p+1) / ((y==y_i).sum()+1)\n",
    "x = trn_term_doc\n",
    "test_x = test_term_doc"
   ]
  },
  {
   "cell_type": "code",
   "execution_count": 181,
   "metadata": {},
   "outputs": [],
   "source": [
    "def get_mdl(y):\n",
    "    y = y.values\n",
    "    r = np.log(pr(1,y) / pr(0,y))\n",
    "    m = LogisticRegression(C=4, dual=True)\n",
    "    models = {}\n",
    "    x_nb = x.multiply(r)\n",
    "    result = m.fit(x_nb, y)\n",
    "    return result, r,m\n",
    "get_mdl.counter = 0"
   ]
  },
  {
   "cell_type": "code",
   "execution_count": 182,
   "metadata": {},
   "outputs": [],
   "source": [
    "preds = np.zeros((len(test), len(label_cols)))\n",
    "models = {}\n",
    "# print(test_x)"
   ]
  },
  {
   "cell_type": "code",
   "execution_count": 183,
   "metadata": {},
   "outputs": [
    {
     "name": "stdout",
     "output_type": "stream",
     "text": [
      "('fit', 'toxic')\n",
      "[[ 0.30596094  0.04373493 -0.94459451 ... -0.09589872 -0.16418971\n",
      "  -0.09589872]]\n",
      "('fit', 'severe_toxic')\n",
      "[[ 1.49276978  2.00255521 -0.73558192 ...  1.88591541  1.89641242\n",
      "   1.88591541]]\n",
      "('fit', 'obscene')\n",
      "[[ 1.2141917   1.14079949 -0.45841346 ...  1.0241597   1.03465671\n",
      "   1.0241597 ]]\n",
      "('fit', 'threat')\n",
      "[[ 1.17046643  1.68025186 -1.1615452  ...  1.56361206  1.57410907\n",
      "   1.56361206]]\n",
      "('fit', 'insult')\n",
      "[[ 0.90553856  0.83214635 -0.68018592 ...  0.71550656  0.72600356\n",
      "   0.71550656]]\n",
      "('fit', 'identity_hate')\n",
      "[[ 1.40189679  1.91168222 -0.61279532 ...  1.79504243  1.80553943\n",
      "   1.79504243]]\n"
     ]
    }
   ],
   "source": [
    "for i, j in enumerate(label_cols):\n",
    "    print('fit', j)\n",
    "    m,r,model = get_mdl(train[j])\n",
    "    print r\n",
    "    with open('/home/ammar/study/8th semester/FYP/toxic comments/final/800/model'+str(i),'wb') as fp:\n",
    "        pickle.dump(m,fp)\n",
    "    with open('/home/ammar/study/8th semester/FYP/toxic comments/final/800/r'+str(i),'wb') as fp:\n",
    "        pickle.dump(r,fp)\n",
    "    preds[:,i] = m.predict_proba(test_x.multiply(r))[:,1]"
   ]
  },
  {
   "cell_type": "code",
   "execution_count": 184,
   "metadata": {},
   "outputs": [
    {
     "name": "stdout",
     "output_type": "stream",
     "text": [
      "(1, 6306)\n",
      "LogisticRegression(C=4, class_weight=None, dual=True, fit_intercept=True,\n",
      "          intercept_scaling=1, max_iter=100, multi_class='ovr', n_jobs=1,\n",
      "          penalty='l2', random_state=None, solver='liblinear', tol=0.0001,\n",
      "          verbose=0, warm_start=False)\n",
      "(4, 6306)\n"
     ]
    }
   ],
   "source": [
    "print r.shape\n",
    "print m\n",
    "print test_x.shape"
   ]
  },
  {
   "cell_type": "code",
   "execution_count": 185,
   "metadata": {},
   "outputs": [],
   "source": [
    "submid = pd.DataFrame({'id': test[\"id\"]})\n",
    "submission = pd.concat([submid, pd.DataFrame(preds, columns = label_cols)], axis=1)\n",
    "# submission.to_csv('submission.csv', index=False)"
   ]
  },
  {
   "cell_type": "code",
   "execution_count": 186,
   "metadata": {},
   "outputs": [
    {
     "data": {
      "text/plain": [
       "Unnamed: 0       1068\n",
       "comment_text     1068\n",
       "id               1068\n",
       "identity_hate    1068\n",
       "insult           1068\n",
       "obscene          1068\n",
       "severe_toxic     1068\n",
       "threat           1068\n",
       "toxic            1068\n",
       "none             1068\n",
       "dtype: int64"
      ]
     },
     "execution_count": 186,
     "metadata": {},
     "output_type": "execute_result"
    }
   ],
   "source": [
    "train.count()"
   ]
  },
  {
   "cell_type": "code",
   "execution_count": 187,
   "metadata": {
    "scrolled": true
   },
   "outputs": [
    {
     "name": "stdout",
     "output_type": "stream",
     "text": [
      "{}\n"
     ]
    }
   ],
   "source": [
    "print(models)"
   ]
  },
  {
   "cell_type": "code",
   "execution_count": null,
   "metadata": {},
   "outputs": [],
   "source": []
  },
  {
   "cell_type": "code",
   "execution_count": 188,
   "metadata": {},
   "outputs": [
    {
     "data": {
      "text/html": [
       "<div>\n",
       "<style scoped>\n",
       "    .dataframe tbody tr th:only-of-type {\n",
       "        vertical-align: middle;\n",
       "    }\n",
       "\n",
       "    .dataframe tbody tr th {\n",
       "        vertical-align: top;\n",
       "    }\n",
       "\n",
       "    .dataframe thead th {\n",
       "        text-align: right;\n",
       "    }\n",
       "</style>\n",
       "<table border=\"1\" class=\"dataframe\">\n",
       "  <thead>\n",
       "    <tr style=\"text-align: right;\">\n",
       "      <th></th>\n",
       "      <th>id</th>\n",
       "      <th>comment_text</th>\n",
       "    </tr>\n",
       "  </thead>\n",
       "  <tbody>\n",
       "    <tr>\n",
       "      <th>0</th>\n",
       "      <td>user1</td>\n",
       "      <td>I not in a mood. fuck off</td>\n",
       "    </tr>\n",
       "    <tr>\n",
       "      <th>1</th>\n",
       "      <td>user2</td>\n",
       "      <td>How to make a bomb</td>\n",
       "    </tr>\n",
       "    <tr>\n",
       "      <th>2</th>\n",
       "      <td>user1</td>\n",
       "      <td>I hate you</td>\n",
       "    </tr>\n",
       "    <tr>\n",
       "      <th>3</th>\n",
       "      <td>user2</td>\n",
       "      <td>I dont hate you</td>\n",
       "    </tr>\n",
       "  </tbody>\n",
       "</table>\n",
       "</div>"
      ],
      "text/plain": [
       "      id               comment_text\n",
       "0  user1  I not in a mood. fuck off\n",
       "1  user2         How to make a bomb\n",
       "2  user1                 I hate you\n",
       "3  user2            I dont hate you"
      ]
     },
     "execution_count": 188,
     "metadata": {},
     "output_type": "execute_result"
    }
   ],
   "source": [
    "test"
   ]
  },
  {
   "cell_type": "code",
   "execution_count": 189,
   "metadata": {},
   "outputs": [
    {
     "data": {
      "text/html": [
       "<div>\n",
       "<style scoped>\n",
       "    .dataframe tbody tr th:only-of-type {\n",
       "        vertical-align: middle;\n",
       "    }\n",
       "\n",
       "    .dataframe tbody tr th {\n",
       "        vertical-align: top;\n",
       "    }\n",
       "\n",
       "    .dataframe thead th {\n",
       "        text-align: right;\n",
       "    }\n",
       "</style>\n",
       "<table border=\"1\" class=\"dataframe\">\n",
       "  <thead>\n",
       "    <tr style=\"text-align: right;\">\n",
       "      <th></th>\n",
       "      <th>id</th>\n",
       "      <th>toxic</th>\n",
       "      <th>severe_toxic</th>\n",
       "      <th>obscene</th>\n",
       "      <th>threat</th>\n",
       "      <th>insult</th>\n",
       "      <th>identity_hate</th>\n",
       "    </tr>\n",
       "  </thead>\n",
       "  <tbody>\n",
       "    <tr>\n",
       "      <th>0</th>\n",
       "      <td>user1</td>\n",
       "      <td>0.953631</td>\n",
       "      <td>0.032620</td>\n",
       "      <td>0.992937</td>\n",
       "      <td>0.023591</td>\n",
       "      <td>0.877892</td>\n",
       "      <td>0.026077</td>\n",
       "    </tr>\n",
       "    <tr>\n",
       "      <th>1</th>\n",
       "      <td>user2</td>\n",
       "      <td>0.419519</td>\n",
       "      <td>0.070428</td>\n",
       "      <td>0.043518</td>\n",
       "      <td>0.097448</td>\n",
       "      <td>0.086648</td>\n",
       "      <td>0.035208</td>\n",
       "    </tr>\n",
       "    <tr>\n",
       "      <th>2</th>\n",
       "      <td>user1</td>\n",
       "      <td>0.941594</td>\n",
       "      <td>0.044028</td>\n",
       "      <td>0.063013</td>\n",
       "      <td>0.038816</td>\n",
       "      <td>0.890828</td>\n",
       "      <td>0.615524</td>\n",
       "    </tr>\n",
       "    <tr>\n",
       "      <th>3</th>\n",
       "      <td>user2</td>\n",
       "      <td>0.589443</td>\n",
       "      <td>0.047223</td>\n",
       "      <td>0.092089</td>\n",
       "      <td>0.031744</td>\n",
       "      <td>0.163485</td>\n",
       "      <td>0.189962</td>\n",
       "    </tr>\n",
       "  </tbody>\n",
       "</table>\n",
       "</div>"
      ],
      "text/plain": [
       "      id     toxic  severe_toxic   obscene    threat    insult  identity_hate\n",
       "0  user1  0.953631      0.032620  0.992937  0.023591  0.877892       0.026077\n",
       "1  user2  0.419519      0.070428  0.043518  0.097448  0.086648       0.035208\n",
       "2  user1  0.941594      0.044028  0.063013  0.038816  0.890828       0.615524\n",
       "3  user2  0.589443      0.047223  0.092089  0.031744  0.163485       0.189962"
      ]
     },
     "execution_count": 189,
     "metadata": {},
     "output_type": "execute_result"
    }
   ],
   "source": [
    "submission"
   ]
  },
  {
   "cell_type": "code",
   "execution_count": 25,
   "metadata": {},
   "outputs": [
    {
     "ename": "NameError",
     "evalue": "name 'submission' is not defined",
     "output_type": "error",
     "traceback": [
      "\u001b[0;31m---------------------------------------------------------------------------\u001b[0m",
      "\u001b[0;31mNameError\u001b[0m                                 Traceback (most recent call last)",
      "\u001b[0;32m<ipython-input-25-33cf5dd84eef>\u001b[0m in \u001b[0;36m<module>\u001b[0;34m()\u001b[0m\n\u001b[0;32m----> 1\u001b[0;31m \u001b[0mlen\u001b[0m\u001b[0;34m(\u001b[0m\u001b[0msubmission\u001b[0m\u001b[0;34m)\u001b[0m\u001b[0;34m\u001b[0m\u001b[0m\n\u001b[0m",
      "\u001b[0;31mNameError\u001b[0m: name 'submission' is not defined"
     ]
    }
   ],
   "source": [
    "len(submission)"
   ]
  },
  {
   "cell_type": "code",
   "execution_count": 42,
   "metadata": {},
   "outputs": [
    {
     "data": {
      "text/plain": [
       "<bound method DataFrame.sum of                        0          1          2          3          4  \\\n",
       "id                     1          2          3          4          5   \n",
       "toxic           0.998568   0.991953   0.915644   0.689392   0.620449   \n",
       "severe_toxic    0.193351   0.029783  0.0647688  0.0264427  0.0243453   \n",
       "obscene          0.99999  0.0977326   0.081977   0.390622    0.15328   \n",
       "threat         0.0919825   0.914922   0.247835   0.125681  0.0947823   \n",
       "insult          0.999295   0.125326   0.847492   0.574722   0.356041   \n",
       "identity_hate  0.0494893  0.0539898   0.630397   0.142122    0.12413   \n",
       "\n",
       "                       5          6          7          8          9  \n",
       "id                     6          7          8          9         10  \n",
       "toxic           0.640229    0.67323   0.661768   0.609536   0.948162  \n",
       "severe_toxic    0.242806  0.0434997  0.0256162   0.031362  0.0260644  \n",
       "obscene         0.385169   0.484935  0.0567138  0.0584597   0.375432  \n",
       "threat         0.0695505  0.0404911   0.109466  0.0512072   0.497948  \n",
       "insult          0.475298   0.430918   0.130577     0.1327   0.347732  \n",
       "identity_hate   0.123966  0.0770132  0.0307915  0.0403714    0.11541  >"
      ]
     },
     "execution_count": 42,
     "metadata": {},
     "output_type": "execute_result"
    }
   ],
   "source": [
    "# submission.T.apply()"
   ]
  },
  {
   "cell_type": "code",
   "execution_count": 222,
   "metadata": {},
   "outputs": [],
   "source": [
    "train = pd.read_csv('./train.csv')"
   ]
  },
  {
   "cell_type": "code",
   "execution_count": 223,
   "metadata": {},
   "outputs": [
    {
     "data": {
      "text/html": [
       "<div>\n",
       "<style scoped>\n",
       "    .dataframe tbody tr th:only-of-type {\n",
       "        vertical-align: middle;\n",
       "    }\n",
       "\n",
       "    .dataframe tbody tr th {\n",
       "        vertical-align: top;\n",
       "    }\n",
       "\n",
       "    .dataframe thead th {\n",
       "        text-align: right;\n",
       "    }\n",
       "</style>\n",
       "<table border=\"1\" class=\"dataframe\">\n",
       "  <thead>\n",
       "    <tr style=\"text-align: right;\">\n",
       "      <th></th>\n",
       "      <th>id</th>\n",
       "      <th>comment_text</th>\n",
       "      <th>toxic</th>\n",
       "      <th>severe_toxic</th>\n",
       "      <th>obscene</th>\n",
       "      <th>threat</th>\n",
       "      <th>insult</th>\n",
       "      <th>identity_hate</th>\n",
       "    </tr>\n",
       "  </thead>\n",
       "  <tbody>\n",
       "    <tr>\n",
       "      <th>159566</th>\n",
       "      <td>ffe987279560d7ff</td>\n",
       "      <td>\":::::And for the second time of asking, when ...</td>\n",
       "      <td>0</td>\n",
       "      <td>0</td>\n",
       "      <td>0</td>\n",
       "      <td>0</td>\n",
       "      <td>0</td>\n",
       "      <td>0</td>\n",
       "    </tr>\n",
       "    <tr>\n",
       "      <th>159567</th>\n",
       "      <td>ffea4adeee384e90</td>\n",
       "      <td>You should be ashamed of yourself \\n\\nThat is ...</td>\n",
       "      <td>0</td>\n",
       "      <td>0</td>\n",
       "      <td>0</td>\n",
       "      <td>0</td>\n",
       "      <td>0</td>\n",
       "      <td>0</td>\n",
       "    </tr>\n",
       "    <tr>\n",
       "      <th>159568</th>\n",
       "      <td>ffee36eab5c267c9</td>\n",
       "      <td>Spitzer \\n\\nUmm, theres no actual article for ...</td>\n",
       "      <td>0</td>\n",
       "      <td>0</td>\n",
       "      <td>0</td>\n",
       "      <td>0</td>\n",
       "      <td>0</td>\n",
       "      <td>0</td>\n",
       "    </tr>\n",
       "    <tr>\n",
       "      <th>159569</th>\n",
       "      <td>fff125370e4aaaf3</td>\n",
       "      <td>And it looks like it was actually you who put ...</td>\n",
       "      <td>0</td>\n",
       "      <td>0</td>\n",
       "      <td>0</td>\n",
       "      <td>0</td>\n",
       "      <td>0</td>\n",
       "      <td>0</td>\n",
       "    </tr>\n",
       "    <tr>\n",
       "      <th>159570</th>\n",
       "      <td>fff46fc426af1f9a</td>\n",
       "      <td>\"\\nAnd ... I really don't think you understand...</td>\n",
       "      <td>0</td>\n",
       "      <td>0</td>\n",
       "      <td>0</td>\n",
       "      <td>0</td>\n",
       "      <td>0</td>\n",
       "      <td>0</td>\n",
       "    </tr>\n",
       "  </tbody>\n",
       "</table>\n",
       "</div>"
      ],
      "text/plain": [
       "                      id                                       comment_text  \\\n",
       "159566  ffe987279560d7ff  \":::::And for the second time of asking, when ...   \n",
       "159567  ffea4adeee384e90  You should be ashamed of yourself \\n\\nThat is ...   \n",
       "159568  ffee36eab5c267c9  Spitzer \\n\\nUmm, theres no actual article for ...   \n",
       "159569  fff125370e4aaaf3  And it looks like it was actually you who put ...   \n",
       "159570  fff46fc426af1f9a  \"\\nAnd ... I really don't think you understand...   \n",
       "\n",
       "        toxic  severe_toxic  obscene  threat  insult  identity_hate  \n",
       "159566      0             0        0       0       0              0  \n",
       "159567      0             0        0       0       0              0  \n",
       "159568      0             0        0       0       0              0  \n",
       "159569      0             0        0       0       0              0  \n",
       "159570      0             0        0       0       0              0  "
      ]
     },
     "execution_count": 223,
     "metadata": {},
     "output_type": "execute_result"
    }
   ],
   "source": [
    "train.tail()"
   ]
  },
  {
   "cell_type": "code",
   "execution_count": 224,
   "metadata": {},
   "outputs": [],
   "source": [
    "train_plain =  train[(train['toxic'] == 0) & (train['severe_toxic'] == 0) & (train['obscene'] == 0) & (train['threat'] == 0) \n",
    "                     & (train['insult'] == 0) & (train['identity_hate'] == 0)]"
   ]
  },
  {
   "cell_type": "code",
   "execution_count": 225,
   "metadata": {},
   "outputs": [
    {
     "data": {
      "text/plain": [
       "id               143346\n",
       "comment_text     143346\n",
       "toxic            143346\n",
       "severe_toxic     143346\n",
       "obscene          143346\n",
       "threat           143346\n",
       "insult           143346\n",
       "identity_hate    143346\n",
       "dtype: int64"
      ]
     },
     "execution_count": 225,
     "metadata": {},
     "output_type": "execute_result"
    }
   ],
   "source": [
    "train_plain.count()"
   ]
  },
  {
   "cell_type": "code",
   "execution_count": 233,
   "metadata": {},
   "outputs": [],
   "source": [
    "murder = train_plain[train_plain['comment_text'].apply(lambda x: 'murder' in x)]\n",
    "shoot = train_plain[train_plain['comment_text'].apply(lambda x: 'shoot' in x)]\n",
    "kill = train_plain[train_plain['comment_text'].apply(lambda x: 'kill' in x)]\n",
    "bomb = train_plain[train_plain['comment_text'].apply(lambda x: 'bomb' in x)]"
   ]
  },
  {
   "cell_type": "code",
   "execution_count": 235,
   "metadata": {},
   "outputs": [
    {
     "name": "stdout",
     "output_type": "stream",
     "text": [
      "id               494\n",
      "comment_text     494\n",
      "toxic            494\n",
      "severe_toxic     494\n",
      "obscene          494\n",
      "threat           494\n",
      "insult           494\n",
      "identity_hate    494\n",
      "dtype: int64\n",
      "id               322\n",
      "comment_text     322\n",
      "toxic            322\n",
      "severe_toxic     322\n",
      "obscene          322\n",
      "threat           322\n",
      "insult           322\n",
      "identity_hate    322\n",
      "dtype: int64\n",
      "id               1476\n",
      "comment_text     1476\n",
      "toxic            1476\n",
      "severe_toxic     1476\n",
      "obscene          1476\n",
      "threat           1476\n",
      "insult           1476\n",
      "identity_hate    1476\n",
      "dtype: int64\n",
      "id               335\n",
      "comment_text     335\n",
      "toxic            335\n",
      "severe_toxic     335\n",
      "obscene          335\n",
      "threat           335\n",
      "insult           335\n",
      "identity_hate    335\n",
      "dtype: int64\n"
     ]
    }
   ],
   "source": [
    "print murder.count()\n",
    "print shoot.count()\n",
    "print kill.count()\n",
    "print bomb.count()"
   ]
  },
  {
   "cell_type": "code",
   "execution_count": null,
   "metadata": {},
   "outputs": [],
   "source": [
    "murder_50 = murder.sample(n=50)\n",
    "murder_50.count()"
   ]
  },
  {
   "cell_type": "code",
   "execution_count": 135,
   "metadata": {},
   "outputs": [
    {
     "data": {
      "text/plain": [
       "id               300\n",
       "comment_text     300\n",
       "toxic            300\n",
       "severe_toxic     300\n",
       "obscene          300\n",
       "threat           300\n",
       "insult           300\n",
       "identity_hate    300\n",
       "dtype: int64"
      ]
     },
     "execution_count": 135,
     "metadata": {},
     "output_type": "execute_result"
    }
   ],
   "source": [
    "sample_300 = train_plain.sample(n=300)\n",
    "sample_300.count()"
   ]
  },
  {
   "cell_type": "code",
   "execution_count": 140,
   "metadata": {},
   "outputs": [
    {
     "data": {
      "text/plain": [
       "id               408\n",
       "comment_text     408\n",
       "toxic            408\n",
       "severe_toxic     408\n",
       "obscene          408\n",
       "threat           408\n",
       "insult           408\n",
       "identity_hate    408\n",
       "dtype: int64"
      ]
     },
     "execution_count": 140,
     "metadata": {},
     "output_type": "execute_result"
    }
   ],
   "source": [
    "toxic_plain = pd.concat([train1,sample_300])\n",
    "toxic_plain_shuffled = toxic_plain.sample(frac =1).reset_index(drop = True)\n",
    "toxic_plain_shuffled.count()"
   ]
  },
  {
   "cell_type": "code",
   "execution_count": 142,
   "metadata": {},
   "outputs": [],
   "source": [
    "toxic_plain_shuffled.to_csv('/home/ammar/study/8th semester/FYP/toxic comments/train_created1')"
   ]
  },
  {
   "cell_type": "code",
   "execution_count": null,
   "metadata": {},
   "outputs": [],
   "source": []
  }
 ],
 "metadata": {
  "kernelspec": {
   "display_name": "Python 2",
   "language": "python",
   "name": "python2"
  },
  "language_info": {
   "codemirror_mode": {
    "name": "ipython",
    "version": 2
   },
   "file_extension": ".py",
   "mimetype": "text/x-python",
   "name": "python",
   "nbconvert_exporter": "python",
   "pygments_lexer": "ipython2",
   "version": "2.7.12"
  }
 },
 "nbformat": 4,
 "nbformat_minor": 2
}
