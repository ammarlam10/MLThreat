{
 "cells": [
  {
   "cell_type": "code",
   "execution_count": 1,
   "metadata": {},
   "outputs": [],
   "source": [
    "import cPickle as pickle\n",
    "import pandas as pd, numpy as np\n",
    "from sklearn.linear_model import LogisticRegression\n",
    "from sklearn.feature_extraction.text import CountVectorizer, TfidfVectorizer"
   ]
  },
  {
   "cell_type": "code",
   "execution_count": 2,
   "metadata": {},
   "outputs": [],
   "source": [
    "test = pd.read_csv('./test.csv')"
   ]
  },
  {
   "cell_type": "code",
   "execution_count": 3,
   "metadata": {},
   "outputs": [],
   "source": [
    "test = pd.DataFrame([['1', 'I\\'ll bomb you hisham'],\n",
    "                     ['2', 'asshole'],\n",
    "                     ['3', 'whats up?'],\n",
    "                     ['4', 'nothing much, Im depressed'],\n",
    "                     ['5','My teacher hates me, never listens to my reasoning'],\n",
    "                     ['6','I feel like killing her'],\n",
    "                     ['7','I want to murder her'],\n",
    "                     ['8','I want to murder her ass'],\n",
    "                     ['9','idk'],\n",
    "                     ['10','I\\'ll probably murder her']\n",
    "                    ], columns=['id', 'comment_text'])"
   ]
  },
  {
   "cell_type": "code",
   "execution_count": 4,
   "metadata": {},
   "outputs": [],
   "source": [
    "test['comment_text'].fillna(\"unknown\", inplace=True)"
   ]
  },
  {
   "cell_type": "code",
   "execution_count": 5,
   "metadata": {},
   "outputs": [],
   "source": [
    "import re,string\n",
    "re_tok = re.compile(re.escape(string.punctuation))"
   ]
  },
  {
   "cell_type": "code",
   "execution_count": 6,
   "metadata": {},
   "outputs": [],
   "source": [
    "def tokenize(s): return re_tok.sub(r' \\1 ', s).split()"
   ]
  },
  {
   "cell_type": "code",
   "execution_count": 7,
   "metadata": {},
   "outputs": [],
   "source": [
    "vec = TfidfVectorizer(ngram_range=(1,2), tokenizer=tokenize,\n",
    "               min_df=3, max_df=0.9, strip_accents='unicode', use_idf=1,\n",
    "               smooth_idf=1, sublinear_tf=1 )\n",
    "vec = pickle.load(open('/home/ammar/study/8th semester/FYP/toxic comments/final/vec', 'rb'))\n",
    "test_term_doc = vec.transform(test['comment_text'])"
   ]
  },
  {
   "cell_type": "code",
   "execution_count": 8,
   "metadata": {},
   "outputs": [],
   "source": [
    "def pr(y_i, y):\n",
    "    p = x[y==y_i].sum(0)\n",
    "    return (p+1) / ((y==y_i).sum()+1)\n",
    "# x = trn_term_doc\n",
    "test_x = test_term_doc"
   ]
  },
  {
   "cell_type": "code",
   "execution_count": 9,
   "metadata": {},
   "outputs": [],
   "source": [
    "label_cols = ['toxic', 'severe_toxic', 'obscene', 'threat', 'insult', 'identity_hate']\n",
    "preds = np.zeros((len(test), len(label_cols)))"
   ]
  },
  {
   "cell_type": "code",
   "execution_count": 11,
   "metadata": {},
   "outputs": [
    {
     "name": "stdout",
     "output_type": "stream",
     "text": [
      "('fit', 'toxic')\n",
      "[[0.57415495 1.24205391 0.9865223  ... 1.79746125 0.75787254 0.75787254]]\n",
      "('fit', 'severe_toxic')\n",
      "[[0.99404422 3.59278685 2.95475165 ... 3.66620322 3.10860548 3.10860548]]\n",
      "('fit', 'obscene')\n",
      "[[0.55067865 2.09367642 1.53332723 ... 1.9551819  1.39758416 1.39758416]]\n",
      "('fit', 'threat')\n",
      "[[1.61549549 4.8033878  4.1653526  ... 4.87680417 4.31920643 4.31920643]]\n",
      "('fit', 'insult')\n",
      "[[0.65812021 1.95563576 1.70010415 ... 2.02905213 1.47145439 1.47145439]]\n",
      "('fit', 'identity_hate')\n",
      "[[0.55819766 3.72074054 3.08270534 ... 3.79415691 3.23655917 3.23655917]]\n"
     ]
    }
   ],
   "source": [
    "for i, j in enumerate(label_cols):\n",
    "    print('fit', j)\n",
    "    m = pickle.load(open('/home/ammar/study/8th semester/FYP/toxic comments/final/model'+ str(i), 'rb'))\n",
    "    r = pickle.load(open('/home/ammar/study/8th semester/FYP/toxic comments/final/r'+ str(i), 'rb'))\n",
    "    print r\n",
    "    preds[:,i] = m.predict_proba(test_x.multiply(r))[:,1]"
   ]
  },
  {
   "cell_type": "code",
   "execution_count": 12,
   "metadata": {},
   "outputs": [],
   "source": [
    "submid = pd.DataFrame({'id': test[\"id\"]})\n",
    "submission = pd.concat([submid, pd.DataFrame(preds, columns = label_cols)], axis=1)"
   ]
  },
  {
   "cell_type": "code",
   "execution_count": 13,
   "metadata": {},
   "outputs": [
    {
     "data": {
      "text/html": [
       "<div>\n",
       "<style scoped>\n",
       "    .dataframe tbody tr th:only-of-type {\n",
       "        vertical-align: middle;\n",
       "    }\n",
       "\n",
       "    .dataframe tbody tr th {\n",
       "        vertical-align: top;\n",
       "    }\n",
       "\n",
       "    .dataframe thead th {\n",
       "        text-align: right;\n",
       "    }\n",
       "</style>\n",
       "<table border=\"1\" class=\"dataframe\">\n",
       "  <thead>\n",
       "    <tr style=\"text-align: right;\">\n",
       "      <th></th>\n",
       "      <th>id</th>\n",
       "      <th>comment_text</th>\n",
       "    </tr>\n",
       "  </thead>\n",
       "  <tbody>\n",
       "    <tr>\n",
       "      <th>0</th>\n",
       "      <td>1</td>\n",
       "      <td>I'll bomb you hisham</td>\n",
       "    </tr>\n",
       "    <tr>\n",
       "      <th>1</th>\n",
       "      <td>2</td>\n",
       "      <td>asshole</td>\n",
       "    </tr>\n",
       "    <tr>\n",
       "      <th>2</th>\n",
       "      <td>3</td>\n",
       "      <td>whats up?</td>\n",
       "    </tr>\n",
       "    <tr>\n",
       "      <th>3</th>\n",
       "      <td>4</td>\n",
       "      <td>nothing much, Im depressed</td>\n",
       "    </tr>\n",
       "    <tr>\n",
       "      <th>4</th>\n",
       "      <td>5</td>\n",
       "      <td>My teacher hates me, never listens to my reaso...</td>\n",
       "    </tr>\n",
       "    <tr>\n",
       "      <th>5</th>\n",
       "      <td>6</td>\n",
       "      <td>I feel like killing her</td>\n",
       "    </tr>\n",
       "    <tr>\n",
       "      <th>6</th>\n",
       "      <td>7</td>\n",
       "      <td>I want to murder her</td>\n",
       "    </tr>\n",
       "    <tr>\n",
       "      <th>7</th>\n",
       "      <td>8</td>\n",
       "      <td>I want to murder her ass</td>\n",
       "    </tr>\n",
       "    <tr>\n",
       "      <th>8</th>\n",
       "      <td>9</td>\n",
       "      <td>idk</td>\n",
       "    </tr>\n",
       "    <tr>\n",
       "      <th>9</th>\n",
       "      <td>10</td>\n",
       "      <td>I'll probably murder her</td>\n",
       "    </tr>\n",
       "  </tbody>\n",
       "</table>\n",
       "</div>"
      ],
      "text/plain": [
       "   id                                       comment_text\n",
       "0   1                               I'll bomb you hisham\n",
       "1   2                                            asshole\n",
       "2   3                                          whats up?\n",
       "3   4                         nothing much, Im depressed\n",
       "4   5  My teacher hates me, never listens to my reaso...\n",
       "5   6                            I feel like killing her\n",
       "6   7                               I want to murder her\n",
       "7   8                           I want to murder her ass\n",
       "8   9                                                idk\n",
       "9  10                           I'll probably murder her"
      ]
     },
     "execution_count": 13,
     "metadata": {},
     "output_type": "execute_result"
    }
   ],
   "source": [
    "test"
   ]
  },
  {
   "cell_type": "code",
   "execution_count": 14,
   "metadata": {},
   "outputs": [
    {
     "data": {
      "text/html": [
       "<div>\n",
       "<style scoped>\n",
       "    .dataframe tbody tr th:only-of-type {\n",
       "        vertical-align: middle;\n",
       "    }\n",
       "\n",
       "    .dataframe tbody tr th {\n",
       "        vertical-align: top;\n",
       "    }\n",
       "\n",
       "    .dataframe thead th {\n",
       "        text-align: right;\n",
       "    }\n",
       "</style>\n",
       "<table border=\"1\" class=\"dataframe\">\n",
       "  <thead>\n",
       "    <tr style=\"text-align: right;\">\n",
       "      <th></th>\n",
       "      <th>id</th>\n",
       "      <th>toxic</th>\n",
       "      <th>severe_toxic</th>\n",
       "      <th>obscene</th>\n",
       "      <th>threat</th>\n",
       "      <th>insult</th>\n",
       "      <th>identity_hate</th>\n",
       "    </tr>\n",
       "  </thead>\n",
       "  <tbody>\n",
       "    <tr>\n",
       "      <th>0</th>\n",
       "      <td>1</td>\n",
       "      <td>0.059580</td>\n",
       "      <td>0.000906</td>\n",
       "      <td>0.012228</td>\n",
       "      <td>0.000622</td>\n",
       "      <td>0.012411</td>\n",
       "      <td>0.001046</td>\n",
       "    </tr>\n",
       "    <tr>\n",
       "      <th>1</th>\n",
       "      <td>2</td>\n",
       "      <td>1.000000</td>\n",
       "      <td>0.007853</td>\n",
       "      <td>0.999999</td>\n",
       "      <td>0.000029</td>\n",
       "      <td>0.999978</td>\n",
       "      <td>0.000146</td>\n",
       "    </tr>\n",
       "    <tr>\n",
       "      <th>2</th>\n",
       "      <td>3</td>\n",
       "      <td>0.026783</td>\n",
       "      <td>0.000637</td>\n",
       "      <td>0.002520</td>\n",
       "      <td>0.000128</td>\n",
       "      <td>0.002490</td>\n",
       "      <td>0.000622</td>\n",
       "    </tr>\n",
       "    <tr>\n",
       "      <th>3</th>\n",
       "      <td>4</td>\n",
       "      <td>0.052771</td>\n",
       "      <td>0.000717</td>\n",
       "      <td>0.023508</td>\n",
       "      <td>0.000632</td>\n",
       "      <td>0.009721</td>\n",
       "      <td>0.000952</td>\n",
       "    </tr>\n",
       "    <tr>\n",
       "      <th>4</th>\n",
       "      <td>5</td>\n",
       "      <td>0.189803</td>\n",
       "      <td>0.000848</td>\n",
       "      <td>0.010143</td>\n",
       "      <td>0.000131</td>\n",
       "      <td>0.013627</td>\n",
       "      <td>0.001427</td>\n",
       "    </tr>\n",
       "    <tr>\n",
       "      <th>5</th>\n",
       "      <td>6</td>\n",
       "      <td>0.079242</td>\n",
       "      <td>0.000886</td>\n",
       "      <td>0.005503</td>\n",
       "      <td>0.002563</td>\n",
       "      <td>0.004611</td>\n",
       "      <td>0.000944</td>\n",
       "    </tr>\n",
       "    <tr>\n",
       "      <th>6</th>\n",
       "      <td>7</td>\n",
       "      <td>0.224149</td>\n",
       "      <td>0.168738</td>\n",
       "      <td>0.187244</td>\n",
       "      <td>0.089265</td>\n",
       "      <td>0.033473</td>\n",
       "      <td>0.001314</td>\n",
       "    </tr>\n",
       "    <tr>\n",
       "      <th>7</th>\n",
       "      <td>8</td>\n",
       "      <td>0.987826</td>\n",
       "      <td>0.267454</td>\n",
       "      <td>0.996174</td>\n",
       "      <td>0.066805</td>\n",
       "      <td>0.703133</td>\n",
       "      <td>0.003069</td>\n",
       "    </tr>\n",
       "    <tr>\n",
       "      <th>8</th>\n",
       "      <td>9</td>\n",
       "      <td>0.071801</td>\n",
       "      <td>0.000596</td>\n",
       "      <td>0.004070</td>\n",
       "      <td>0.000132</td>\n",
       "      <td>0.008858</td>\n",
       "      <td>0.000461</td>\n",
       "    </tr>\n",
       "    <tr>\n",
       "      <th>9</th>\n",
       "      <td>10</td>\n",
       "      <td>0.061142</td>\n",
       "      <td>0.001159</td>\n",
       "      <td>0.007052</td>\n",
       "      <td>0.003288</td>\n",
       "      <td>0.008480</td>\n",
       "      <td>0.000601</td>\n",
       "    </tr>\n",
       "  </tbody>\n",
       "</table>\n",
       "</div>"
      ],
      "text/plain": [
       "   id     toxic  severe_toxic   obscene    threat    insult  identity_hate\n",
       "0   1  0.059580      0.000906  0.012228  0.000622  0.012411       0.001046\n",
       "1   2  1.000000      0.007853  0.999999  0.000029  0.999978       0.000146\n",
       "2   3  0.026783      0.000637  0.002520  0.000128  0.002490       0.000622\n",
       "3   4  0.052771      0.000717  0.023508  0.000632  0.009721       0.000952\n",
       "4   5  0.189803      0.000848  0.010143  0.000131  0.013627       0.001427\n",
       "5   6  0.079242      0.000886  0.005503  0.002563  0.004611       0.000944\n",
       "6   7  0.224149      0.168738  0.187244  0.089265  0.033473       0.001314\n",
       "7   8  0.987826      0.267454  0.996174  0.066805  0.703133       0.003069\n",
       "8   9  0.071801      0.000596  0.004070  0.000132  0.008858       0.000461\n",
       "9  10  0.061142      0.001159  0.007052  0.003288  0.008480       0.000601"
      ]
     },
     "execution_count": 14,
     "metadata": {},
     "output_type": "execute_result"
    }
   ],
   "source": [
    "submission"
   ]
  },
  {
   "cell_type": "code",
   "execution_count": null,
   "metadata": {},
   "outputs": [],
   "source": []
  }
 ],
 "metadata": {
  "kernelspec": {
   "display_name": "Python 2",
   "language": "python",
   "name": "python2"
  },
  "language_info": {
   "codemirror_mode": {
    "name": "ipython",
    "version": 2
   },
   "file_extension": ".py",
   "mimetype": "text/x-python",
   "name": "python",
   "nbconvert_exporter": "python",
   "pygments_lexer": "ipython2",
   "version": "2.7.12"
  }
 },
 "nbformat": 4,
 "nbformat_minor": 2
}
